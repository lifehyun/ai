{
  "nbformat": 4,
  "nbformat_minor": 0,
  "metadata": {
    "colab": {
      "provenance": [],
      "collapsed_sections": [
        "h5v98TN7QkFb"
      ],
      "authorship_tag": "ABX9TyMl1Cwa3w1j8OFcbwURX3f/",
      "include_colab_link": true
    },
    "kernelspec": {
      "name": "python3",
      "display_name": "Python 3"
    },
    "language_info": {
      "name": "python"
    }
  },
  "cells": [
    {
      "cell_type": "markdown",
      "metadata": {
        "id": "view-in-github",
        "colab_type": "text"
      },
      "source": [
        "<a href=\"https://colab.research.google.com/github/lifehyun/ai/blob/%2Bpython/06%EB%84%98%ED%8C%8C%EC%9D%B4(numpy).ipynb\" target=\"_parent\"><img src=\"https://colab.research.google.com/assets/colab-badge.svg\" alt=\"Open In Colab\"/></a>"
      ]
    },
    {
      "cell_type": "markdown",
      "source": [
        "! pip install numpy # 넘파이 설치"
      ],
      "metadata": {
        "id": "gQGKrKOW24Or"
      }
    },
    {
      "cell_type": "code",
      "source": [
        "import numpy as np #as : 애칭을 정해놓은것이다\n",
        "a = np.array(0) # a를 배열로 만들어놓은것 : 안에 내용이 1개있을시 스칼라 형태이다.\n",
        "print(a)\n",
        "type(a)\n",
        "print(a.ndim)#0 : 0차원이라는것\n",
        "\n",
        "b = np.array([0,1,2,3]) #벡터 : 한줄로 되어있 형태이다\n",
        "print(b)\n",
        "type(b)\n",
        "print(b.ndim)#1 : 1차원이라는것\n",
        "\n",
        "\n",
        "c = np.array([[1,2,3], [4,5,6] , [7,8,9]]) # 2차원 행렬 3 * 3\n",
        "print(c)\n",
        "type(c)\n",
        "print(c.ndim)#2: 2차원이라는것\n",
        "\n",
        "d = np.array([ [ [1,2],[3,4],[5,6] ] ,[ [7,8],[9,10],[11,12] ] ]) # 3차원 텐서2(면) * 3(행) * 2(열)\n",
        "print(d)\n",
        "type(d)\n",
        "print(d.ndim)#3 : 3차원이라는것\n",
        "\n",
        "#3면 2행 2열\n",
        "e = np.array([[[4,5],[6,7]] , [[8,9],[10,11]] ,[[12,13],[14,15]]]) # 3차원 텐서3(면) [] [] []\n",
        "print(e)\n",
        "type(e)\n",
        "print(e.ndim)#ndim:차원을 알아보는 함수 -> 3 : 3차원이라는것\n",
        "print(e.shape)#(3, 2, 2): 3면 2행 2열이라는 뜻"
      ],
      "metadata": {
        "colab": {
          "base_uri": "https://localhost:8080/"
        },
        "id": "Wbwll8Xq4azk",
        "outputId": "1dd978e3-4132-4e54-ebcd-c2d598a8bd55"
      },
      "execution_count": null,
      "outputs": [
        {
          "output_type": "stream",
          "name": "stdout",
          "text": [
            "0\n",
            "0\n",
            "[0 1 2 3]\n",
            "1\n",
            "[[1 2 3]\n",
            " [4 5 6]\n",
            " [7 8 9]]\n",
            "2\n",
            "[[[ 1  2]\n",
            "  [ 3  4]\n",
            "  [ 5  6]]\n",
            "\n",
            " [[ 7  8]\n",
            "  [ 9 10]\n",
            "  [11 12]]]\n",
            "3\n",
            "[[[ 4  5]\n",
            "  [ 6  7]]\n",
            "\n",
            " [[ 8  9]\n",
            "  [10 11]]\n",
            "\n",
            " [[12 13]\n",
            "  [14 15]]]\n",
            "3\n",
            "(3, 2, 2)\n",
            "[ 0  1  2  3  4  5  6  7  8  9 10 11]\n"
          ]
        }
      ]
    },
    {
      "cell_type": "code",
      "source": [
        "#reshaping\n",
        "#shape : 만들고 싶은 행과 열로 나눌수 있다\n",
        "a1 = np.arange(12) #1차원 벡터생성\n",
        "print(a1)\n",
        "a1.shape\n",
        "a1.shape = 2, -1 #전체를 2행 -1열 로 나눠라.\n",
        "print(a1)\n",
        "a1.shape\n",
        "a1.shape = 3, -1 #전체를 3행 , -1로 나눠라\n",
        "print(a1)\n",
        "a1.shape\n",
        "a1.shape = -1,1 #전체를 -1행:모든걸 , -1로 나눠라\n",
        "print(a1)\n",
        "a1.shape\n",
        "a1.shape = -1,3\n",
        "print(a1)\n",
        "\n",
        "a1.shape = -1\n",
        "print(a1) #1차원 벡터로 나온다. 열이없다.\n",
        "\n",
        "#홀수개로 나오게 해보자\n",
        "#a1 = np.arange(13) a1.shape = 2, -1 #전체를 2행 -1열 로 나눠라. 불가\n",
        "\n",
        "print(a1.size,'~~~~') #요소의 갯수를 알아볼때 사용한다 : .size"
      ],
      "metadata": {
        "colab": {
          "base_uri": "https://localhost:8080/"
        },
        "id": "dqXBP3P6AnbI",
        "outputId": "12ab3efa-5e99-4c97-afde-3e47ae21fdfe"
      },
      "execution_count": null,
      "outputs": [
        {
          "output_type": "stream",
          "name": "stdout",
          "text": [
            "[ 0  1  2  3  4  5  6  7  8  9 10 11]\n",
            "[[ 0  1  2  3  4  5]\n",
            " [ 6  7  8  9 10 11]]\n",
            "[[ 0  1  2  3]\n",
            " [ 4  5  6  7]\n",
            " [ 8  9 10 11]]\n",
            "[[ 0]\n",
            " [ 1]\n",
            " [ 2]\n",
            " [ 3]\n",
            " [ 4]\n",
            " [ 5]\n",
            " [ 6]\n",
            " [ 7]\n",
            " [ 8]\n",
            " [ 9]\n",
            " [10]\n",
            " [11]]\n",
            "[[ 0  1  2]\n",
            " [ 3  4  5]\n",
            " [ 6  7  8]\n",
            " [ 9 10 11]]\n",
            "[ 0  1  2  3  4  5  6  7  8  9 10 11]\n",
            "12 ~~~~\n"
          ]
        }
      ]
    },
    {
      "cell_type": "markdown",
      "source": [
        "- 자료형\n",
        "  - int64 , int16 , int8 , unit64이 있다\n",
        "  - unit64: 부호 상관없이 양수로 표현한다.\n",
        "  - 자료표현 단위로 표기한다\n",
        "  - 표기는 : 2^63~2^63 -1 범위의 정수를 표현할 수 있다.\n",
        "  - 예를들어서 8bit라고 할때 정수형이고 8칸을 차지한다\n",
        "  - 자료표현단위는 2-n1 ~ 2n-1 -1로 표기하고\n",
        "  - 2진수로 표기하면 1000101 이라고 표기한다.\n",
        "    - 표기방법\n",
        "      - 첫째. 부호bit표기하고 부호bit표기는 양수이면 1 음수이면 0으로 표기\n",
        "      - 둘째. 그 다음에 오는수는 2진법으로로 계산해서 표기한다.\n",
        "      - 16진수 8진수 4진수 2진수 1진수 해서 뒤에서부터 표기하고\n",
        "        그나머지 공간은 차지하지 않을때 0으로 표기한다.\n",
        "      - 셋째.8칸에서 1칸을 제외한 4 2 1:7칸을 차지하고1(부호bit)101으로 표기한다.\n",
        "\n",
        "  - float형(실수) : 부동소숫점 표현방식 , 실수표현방식 (자료검색할때)\n",
        "   - float64: 소숫점 15까지  , float32 :6자리까지, float16 : 2자리까지 정확하게 나온다.\n",
        "   - 자료저장 모습 : 부호비트 1비트  지수부(7비트) 가수부(8 or 24 or 58)\n",
        "   - 소숫점아래를 저장하는 공간이 많아지게 하는것\n",
        "   - 실수의 기본형은 float 64 이다\n",
        "\n",
        "  - complex형(복소수)\n",
        "   - colplex128 , clopelx64"
      ],
      "metadata": {
        "id": "Y1m7ftvOD1vI"
      }
    },
    {
      "cell_type": "code",
      "source": [
        "#int32의 자료표현의 범위 -2147483648 ~2147483647까지 정수표현의 범위이다.\n",
        "#정수형\n",
        "a = np.array([1,3,5,7,9],np.int32)\n",
        "print(a)\n",
        "a.dtype\n",
        "a1 = np.array([2147483646 , 2147483647 , 2147483649],np.int64) #에러가 나는 이유는 int32가 포함하는 공간을 넘었기 때문에 더큰 int64로 변경해주면된다\n",
        "print(a1)\n",
        "a2 = np.array([2**63 , 2**63+1 , 2**63+2],np.uint64)\n",
        "print(a2)\n",
        "a2.dtype\n",
        "a3 = np.array([2**62 , -2**62])\n",
        "print(a3)\n",
        "a3.dtype\n",
        "\n",
        "a4 = np.array([1,3,5,7,9])\n",
        "print(a4)\n",
        "a4.dtype"
      ],
      "metadata": {
        "colab": {
          "base_uri": "https://localhost:8080/"
        },
        "id": "MoMa6fzpIGc2",
        "outputId": "1e9b9572-1de9-4270-a3a8-36afeed855b0"
      },
      "execution_count": null,
      "outputs": [
        {
          "output_type": "stream",
          "name": "stdout",
          "text": [
            "[1 3 5 7 9]\n",
            "[2147483646 2147483647 2147483649]\n",
            "[9223372036854775808 9223372036854775809 9223372036854775810]\n",
            "[ 4611686018427387904 -4611686018427387904]\n",
            "[1 3 5 7 9]\n"
          ]
        },
        {
          "output_type": "execute_result",
          "data": {
            "text/plain": [
              "dtype('int64')"
            ]
          },
          "metadata": {},
          "execution_count": 77
        }
      ]
    },
    {
      "cell_type": "code",
      "source": [
        "#실수형\n",
        "a = np.array(3.1415926535879468,np.float64)\n",
        "print(a)\n",
        "a.dtype\n",
        "\n",
        "#3.14 dtype('float16') #2자리까지\n",
        "#3.1415927 dtype('float32')#6자리까지\n",
        "#3.14159265358793 dtype('float64') # 15자리까지만 정확하게 나온다\n",
        "\n",
        "a2 = np.array(3.14)\n",
        "print(a2)\n"
      ],
      "metadata": {
        "colab": {
          "base_uri": "https://localhost:8080/"
        },
        "id": "YdV5kvs-QHDj",
        "outputId": "e7e36324-1b24-4f02-9749-8c1f72bbb2ff"
      },
      "execution_count": null,
      "outputs": [
        {
          "output_type": "stream",
          "name": "stdout",
          "text": [
            "3.1415926535879466\n",
            "3.14\n"
          ]
        }
      ]
    },
    {
      "cell_type": "code",
      "source": [
        "#복소수\n",
        "a = np.array([1.2j , 3+4j , 2.72 + 3.14j])\n",
        "print(a)\n",
        "a.dtype\n",
        "a.real #실수만 추출함\n",
        "a.imag #허수만 추출함\n",
        "print(a.imag.dtype, '!!')\n",
        "print(a.real.dtype, '~~')"
      ],
      "metadata": {
        "colab": {
          "base_uri": "https://localhost:8080/"
        },
        "id": "T7dwihEoTRaP",
        "outputId": "7e2c488d-5d1e-44ba-c12f-426d039a817a"
      },
      "execution_count": null,
      "outputs": [
        {
          "output_type": "stream",
          "name": "stdout",
          "text": [
            "[0.  +1.2j  3.  +4.j   2.72+3.14j]\n",
            "float64 !!\n",
            "float64 ~~\n"
          ]
        }
      ]
    },
    {
      "cell_type": "markdown",
      "source": [
        "1. 인덱싱 indexing\n",
        "  1)1DArray 1차배열\n",
        "  2)2DArray 2차배열\n",
        "\n",
        "2. 슬라이싱 slicing\n",
        "  1)1DArray 1차배열\n",
        "  2)2DArray 2차배열\n",
        "\n",
        "3. irerating\n",
        "  1)1DArray 1차배열\n",
        "  2)2DArray 2차배열\n",
        "  "
      ],
      "metadata": {
        "id": "4SGPtibKVXZM"
      }
    },
    {
      "cell_type": "code",
      "source": [
        "#인덱싱 indexing 1)1DArray 2)2DArray\n",
        "a = np.array([1,3,5,7,9])\n",
        "print(a)\n",
        "print(a.ndim)\n",
        "print(a.shape)\n",
        "print(a[0]) #1번을 찍고싶을때\n",
        "print(a[3]) #5번을 찍고싶을때\n",
        "print(a[4]) #9번을 찍고싶을때\n",
        "print(a[-1])\n",
        "print(a[-2])"
      ],
      "metadata": {
        "colab": {
          "base_uri": "https://localhost:8080/"
        },
        "id": "2rE_-ZQ1V_bu",
        "outputId": "8ada72c5-94e1-471e-fc90-05fe91449e21"
      },
      "execution_count": null,
      "outputs": [
        {
          "output_type": "stream",
          "name": "stdout",
          "text": [
            "[1 3 5 7 9]\n",
            "1\n",
            "(5,)\n",
            "1\n",
            "7\n",
            "9\n",
            "9\n",
            "7\n"
          ]
        }
      ]
    },
    {
      "cell_type": "code",
      "source": [
        "#인덱싱 indexing 2)2DArray\n",
        "a = np.array([[1,3,5],[2,4,6]])\n",
        "print(a)\n",
        "print(a.dtype)\n",
        "print(a.ndim)\n",
        "print(a.shape)\n",
        "print(a.size)\n",
        "#1.5.4를 찍어라\n",
        "print(a[0,0],a[0,2],a[1,1])\n",
        "\n",
        "#3자리에 13을 넣기\n",
        "a[0,1]=13\n",
        "#2값의 자리에 25를 바꾸어서 넣기\n",
        "a[1,0]=25\n",
        "print(a)\n",
        "\n",
        "#번헹 전체의 값에다가 +10 을 한다면\n",
        "print(a[0])\n",
        "print(a[0,: ])\n",
        "print(a[0,0:3])\n",
        "a[0] = a[0]+ 10\n",
        "print(a[0])\n",
        "\n",
        "#1번행에 2를 전부 곱하기\n",
        "a[1]= a[1]* 2\n",
        "a[1] *= 2\n",
        "print(a[1])\n",
        "#1번열에 2를 전부 곱하기\n",
        "a[:,1:2] = a[:,1:2]*2\n",
        "print(a[:,1:2])\n",
        "\n",
        "#1번행에 2를 전부 나누기\n",
        "a[1]= a[1]/ 2\n",
        "print(a[1])\n",
        "#1번열에 2를 전부 나누기\n",
        "a[:,1:2] = a[:,1:2]/2\n",
        "print(a[:,1:2])\n",
        "\n"
      ],
      "metadata": {
        "colab": {
          "base_uri": "https://localhost:8080/"
        },
        "id": "BLLrgskNWvpG",
        "outputId": "5d254032-7033-457b-ecf8-9c029c1f5a4e"
      },
      "execution_count": null,
      "outputs": [
        {
          "output_type": "stream",
          "name": "stdout",
          "text": [
            "[[1 3 5]\n",
            " [2 4 6]]\n",
            "int64\n",
            "2\n",
            "(2, 3)\n",
            "6\n",
            "1 5 4\n",
            "[[ 1 13  5]\n",
            " [25  4  6]]\n",
            "[ 1 13  5]\n",
            "[ 1 13  5]\n",
            "[ 1 13  5]\n",
            "[11 23 15]\n",
            "[100  16  24]\n",
            "[[46]\n",
            " [32]]\n",
            "[50 16 12]\n",
            "[[23]\n",
            " [ 8]]\n"
          ]
        }
      ]
    },
    {
      "cell_type": "code",
      "source": [
        "#슬라이싱 slicing 1)1DArray 2)2DArray\n",
        "a = np.array([1,3,5,7,9])\n",
        "print(a.ndim)\n",
        "print(a.dtype)\n",
        "print(a.shape)\n",
        " #a의 전부다\n",
        "print(a[:])\n",
        "print(a[0:5]) #13579\n",
        "\n",
        "print(a[2:])#579\n",
        "print(a[3:])#79\n",
        "print(a[:0]) #빈개 나온다\n",
        "print(a[:1])#1\n",
        "print(a[:2])#13\n",
        "#print(a[1,3,5]) #에러가 난다\n",
        "print(a[:-1])#1357\n",
        "print(a[:-2]) #135\n",
        "print(a[1:4]) #357\n",
        "\n",
        "a2 = np.arange(10) #0~9까지 연속적인 수의 배열을 만듦 : arange(범위)\n",
        "print(a2)\n",
        "print(a2[:2]) #0 1\n",
        "#처음부터 끝까지 2개씩 늘어나는수\n",
        "print(a2[::2])\n",
        "#처음부터 끝까지 3개씩 늘어나는수\n",
        "print(a2[::3])\n",
        "#처음부터 끝까지 4개씩 늘어나는수\n",
        "print(a2[::4])\n",
        "#인덱스 뒤에서부터 앞으로 늘어나는수\n",
        "print(a2[::-1])\n",
        "print(a2[::-2])\n",
        "#인덱스\n",
        "print(a2[1::1])\n",
        "print(a2[1::2])\n",
        "print(a2[0::2])\n",
        "print(a2[0:5:2])\n",
        "print(a2[:-4:2])\n",
        "print(a2[::3])#0~~3개씩 늘어남 0369\n",
        "print(a2[::-3])#반대로 9630\n",
        "\n",
        "print(a2[2:-2:2])#2~-2까지 2개씩 늘어남 246\n",
        "\n",
        "#문제\n",
        "a3=np.arange(15)\n",
        "#1,3,5,7,9출력하기\n",
        "print(a3[1:11:2])\n",
        "#2,4,6,8,10,12출력하기\n",
        "print(a3[2:14:2])\n",
        "#14,13,12,11,10출력하기\n",
        "print(a3[-1:9:-1])\n",
        "#1을 출력하기1\n",
        "print(a3[1])\n",
        "#맨마지막 열만 출력하기 14\n",
        "print(a3[-1])"
      ],
      "metadata": {
        "colab": {
          "base_uri": "https://localhost:8080/"
        },
        "id": "5DI2Aj6sbItg",
        "outputId": "98f87ba4-1585-4962-f361-47c6651b9b42"
      },
      "execution_count": null,
      "outputs": [
        {
          "output_type": "stream",
          "name": "stdout",
          "text": [
            "1\n",
            "int64\n",
            "(5,)\n",
            "[1 3 5 7 9]\n",
            "[1 3 5 7 9]\n",
            "[5 7 9]\n",
            "[7 9]\n",
            "[]\n",
            "[1]\n",
            "[1 3]\n",
            "[1 3 5 7]\n",
            "[1 3 5]\n",
            "[3 5 7]\n",
            "[0 1 2 3 4 5 6 7 8 9]\n",
            "[0 1]\n",
            "[0 2 4 6 8]\n",
            "[0 3 6 9]\n",
            "[0 4 8]\n",
            "[9 8 7 6 5 4 3 2 1 0]\n",
            "[9 7 5 3 1]\n",
            "[1 2 3 4 5 6 7 8 9]\n",
            "[1 3 5 7 9]\n",
            "[0 2 4 6 8]\n",
            "[0 2 4]\n",
            "[0 2 4]\n",
            "[0 3 6 9]\n",
            "[9 6 3 0]\n",
            "[2 4 6]\n",
            "[1 3 5 7 9]\n",
            "[ 2  4  6  8 10 12]\n",
            "[14 13 12 11 10]\n",
            "1\n",
            "14\n"
          ]
        }
      ]
    },
    {
      "cell_type": "code",
      "source": [
        "#슬라이딩 slicing 2D Array\n",
        "a = np.arange(10,25).reshape(3,5)\n",
        "print(a)\n",
        "print(a.ndim)\n",
        "print(a.dtype)\n",
        "print(a[:])\n",
        "print(a[0:])\n",
        "print(a[1:],'1행부터 끝행까지')\n",
        "print(a[-1:],'제일 마지막행')\n",
        "print(a[-2:])\n",
        "print(a[-3:])\n",
        "print(a[:0])\n",
        "print(a[:1])\n",
        "print(a[:-1])\n",
        "print(a[ :,0:],'a행 전부다 , 0열부터 전부다')\n",
        "print(a[ :,1:],'a행 전부다 , 1열부터 전부다')\n",
        "print(a[ :,2:],'a행 전부다 , 2열부터 전부다')\n",
        "print(a[1: ,1:3])\n",
        "print(a[: ,3:])\n",
        "\n",
        "#10~100까지 9*10 2차원 배열 만드세요\n",
        "a1 = np.arange(10,100).reshape(9,10)\n",
        "print(a1)\n",
        "\n",
        "print(a1[0:3:,])\n",
        "print(a1[1:5 , -4:-1])"
      ],
      "metadata": {
        "colab": {
          "base_uri": "https://localhost:8080/"
        },
        "id": "d0LC3JJRx_bo",
        "outputId": "9f944793-ad3e-478e-eba3-ff1f5ab08e8a"
      },
      "execution_count": null,
      "outputs": [
        {
          "output_type": "stream",
          "name": "stdout",
          "text": [
            "[[10 11 12 13 14]\n",
            " [15 16 17 18 19]\n",
            " [20 21 22 23 24]]\n",
            "2\n",
            "int64\n",
            "[[10 11 12 13 14]\n",
            " [15 16 17 18 19]\n",
            " [20 21 22 23 24]]\n",
            "[[10 11 12 13 14]\n",
            " [15 16 17 18 19]\n",
            " [20 21 22 23 24]]\n",
            "[[15 16 17 18 19]\n",
            " [20 21 22 23 24]] 1행부터 끝행까지\n",
            "[[20 21 22 23 24]] 제일 마지막행\n",
            "[[15 16 17 18 19]\n",
            " [20 21 22 23 24]]\n",
            "[[10 11 12 13 14]\n",
            " [15 16 17 18 19]\n",
            " [20 21 22 23 24]]\n",
            "[]\n",
            "[[10 11 12 13 14]]\n",
            "[[10 11 12 13 14]\n",
            " [15 16 17 18 19]]\n",
            "[[10 11 12 13 14]\n",
            " [15 16 17 18 19]\n",
            " [20 21 22 23 24]] a행 전부다 , 0열부터 전부다\n",
            "[[11 12 13 14]\n",
            " [16 17 18 19]\n",
            " [21 22 23 24]] a행 전부다 , 1열부터 전부다\n",
            "[[12 13 14]\n",
            " [17 18 19]\n",
            " [22 23 24]] a행 전부다 , 2열부터 전부다\n",
            "[[16 17]\n",
            " [21 22]]\n",
            "[[13 14]\n",
            " [18 19]\n",
            " [23 24]]\n",
            "[[10 11 12 13 14 15 16 17 18 19]\n",
            " [20 21 22 23 24 25 26 27 28 29]\n",
            " [30 31 32 33 34 35 36 37 38 39]\n",
            " [40 41 42 43 44 45 46 47 48 49]\n",
            " [50 51 52 53 54 55 56 57 58 59]\n",
            " [60 61 62 63 64 65 66 67 68 69]\n",
            " [70 71 72 73 74 75 76 77 78 79]\n",
            " [80 81 82 83 84 85 86 87 88 89]\n",
            " [90 91 92 93 94 95 96 97 98 99]]\n",
            "[[10 11 12 13 14 15 16 17 18 19]\n",
            " [20 21 22 23 24 25 26 27 28 29]\n",
            " [30 31 32 33 34 35 36 37 38 39]]\n",
            "[[26 27 28]\n",
            " [36 37 38]\n",
            " [46 47 48]\n",
            " [56 57 58]]\n"
          ]
        }
      ]
    },
    {
      "cell_type": "code",
      "source": [
        "#arrnage\n",
        "a= np.arange(10,10,5)\n",
        "print(a)\n",
        "a = np.arange(10,dtype=np.float32)\n",
        "print(a)\n",
        "\n",
        "a = np.arange(0.0,1.0 , 0.1 , dtype=np.float32)\n",
        "print(a)\n",
        "\n",
        "a = np.arange(0 , 1 , 0.1) #정의를 하지않아서 기본타임인 :float64\n",
        "print(a)\n",
        "print(a.dtype)"
      ],
      "metadata": {
        "colab": {
          "base_uri": "https://localhost:8080/"
        },
        "id": "9TjW-wdU8a-H",
        "outputId": "3630d20b-dad7-44b8-a6fc-8fcce2fb1d2b"
      },
      "execution_count": null,
      "outputs": [
        {
          "output_type": "stream",
          "name": "stdout",
          "text": [
            "[]\n",
            "[0. 1. 2. 3. 4. 5. 6. 7. 8. 9.]\n",
            "[0.         0.1        0.2        0.3        0.4        0.5\n",
            " 0.6        0.7        0.8        0.90000004]\n",
            "[0.  0.1 0.2 0.3 0.4 0.5 0.6 0.7 0.8 0.9]\n",
            "float64\n"
          ]
        }
      ]
    },
    {
      "cell_type": "code",
      "source": [
        "#linspace\n",
        "a = np.linspace(0,1,5) #시작수 , 끝수포함 , 갯수\n",
        "print(a)"
      ],
      "metadata": {
        "colab": {
          "base_uri": "https://localhost:8080/"
        },
        "id": "VIJhWpxS_xud",
        "outputId": "0d57f207-3a79-4ba7-abd5-0b6f37c0e207"
      },
      "execution_count": null,
      "outputs": [
        {
          "output_type": "stream",
          "name": "stdout",
          "text": [
            "[0.   0.25 0.5  0.75 1.  ]\n"
          ]
        }
      ]
    },
    {
      "cell_type": "code",
      "source": [
        "#transpace\n",
        "a = np.array([[1,2,3],[4,5,6]]) #2차원 , 2행 2열\n",
        "print(a)\n",
        "\n",
        "b = a.T #0열을 0행으로 , 1열을 1행으로 2열을 2행으로변경하는 함수 : T\n",
        "print(b)\n",
        "\n",
        "b2 = np.transpose(a) #열을 행으로 변경\n",
        "print(b2)\n",
        "\n",
        "bb2 = np.transpose(b2) #행을 열으로 변경\n",
        "print(bb2)\n",
        "\n",
        "aa2 = np.transpose(bb2)\n",
        "print(aa2)\n"
      ],
      "metadata": {
        "colab": {
          "base_uri": "https://localhost:8080/"
        },
        "id": "W_7SphWEAMhX",
        "outputId": "2e2b59ac-8688-4ffd-c1e8-38a0af912a18"
      },
      "execution_count": null,
      "outputs": [
        {
          "output_type": "stream",
          "name": "stdout",
          "text": [
            "[[1 2 3]\n",
            " [4 5 6]]\n",
            "[[1 4]\n",
            " [2 5]\n",
            " [3 6]]\n",
            "[[1 4]\n",
            " [2 5]\n",
            " [3 6]]\n",
            "[[1 2 3]\n",
            " [4 5 6]]\n",
            "[[1 4]\n",
            " [2 5]\n",
            " [3 6]]\n"
          ]
        }
      ]
    },
    {
      "cell_type": "code",
      "source": [
        "#reshape#행 , 열 의 사이즈 변경\n",
        "a = np.array([1,2,3,4,5,6]).reshape(2,3)\n",
        "print(a)"
      ],
      "metadata": {
        "colab": {
          "base_uri": "https://localhost:8080/"
        },
        "id": "eyMHOD9pB5Co",
        "outputId": "b98eee9c-fa97-42ec-8a63-ea2bbbe6e1e5"
      },
      "execution_count": null,
      "outputs": [
        {
          "output_type": "stream",
          "name": "stdout",
          "text": [
            "[[1]\n",
            " [2]\n",
            " [3]\n",
            " [4]\n",
            " [5]\n",
            " [6]]\n"
          ]
        }
      ]
    },
    {
      "cell_type": "code",
      "source": [
        "#r_ row 행\n",
        "a = np.array([1,2,3])\n",
        "b = np.array([4,5,6])\n",
        "print(a)\n",
        "print(b)\n",
        "\n",
        " #행으로 합치는것 .r_:row\n",
        "c = np.r_[a,b]\n",
        "print(c)\n",
        "\n",
        "#열으로 합치는것 .c_:colnum\n",
        "d = np.c_[a,b] # 123 , 4567 일때는 에러가 난다 같이 길이가 아니기떄문에\n",
        "print(d)\n",
        "\n",
        "name1 = np.array(['사과','포도'])\n",
        "name2 = np.array(['체리','망고'])\n",
        "\n",
        "print(name1)\n",
        "print(name2)\n",
        "\n",
        "n1 = np.c_[name1,name2]# 열로 합친것 .c_\n",
        "n2 = np.r_[name1,name2]# 행으로 합친것 .r_\n",
        "\n",
        "print(n1)\n",
        "print(n2)"
      ],
      "metadata": {
        "colab": {
          "base_uri": "https://localhost:8080/"
        },
        "id": "In59QD0QCWvW",
        "outputId": "d5cc4f68-fa1d-4bba-a853-960022b19ed3"
      },
      "execution_count": null,
      "outputs": [
        {
          "output_type": "stream",
          "name": "stdout",
          "text": [
            "[1 2 3]\n",
            "[4 5 6]\n",
            "[1 2 3 4 5 6]\n",
            "[[1 4]\n",
            " [2 5]\n",
            " [3 6]]\n",
            "['사과' '포도']\n",
            "['체리' '망고']\n",
            "[['사과' '체리']\n",
            " ['포도' '망고']]\n",
            "['사과' '포도' '체리' '망고']\n"
          ]
        }
      ]
    },
    {
      "cell_type": "markdown",
      "source": [
        "\n",
        "\n"
      ],
      "metadata": {
        "id": "P1TDoO6-EZAA"
      }
    },
    {
      "cell_type": "code",
      "source": [
        "#concatenate 1d\n",
        "a = np.array([1,2,3])\n",
        "b = np.array([4,5,6])\n",
        "c = np.concatenate((a,b))\n",
        "\n",
        "print(c)"
      ],
      "metadata": {
        "colab": {
          "base_uri": "https://localhost:8080/"
        },
        "id": "Qk-jdBf7FncI",
        "outputId": "5369908b-a50e-4d34-ff41-eb65a4416a9d"
      },
      "execution_count": null,
      "outputs": [
        {
          "output_type": "stream",
          "name": "stdout",
          "text": [
            "[1 2 3 4 5 6]\n"
          ]
        }
      ]
    },
    {
      "cell_type": "code",
      "source": [
        "#concatenate 2d\n",
        "a = np.array([[1,2],[3,4]])\n",
        "b = np.array([[5,6],[7,8]])\n",
        "print(a)\n",
        "print(b)\n",
        "c = np.concatenate((a,b), axis=0) #행으로 합치기 : axis=0\n",
        "print(c)\n",
        "c = np.concatenate((a,b), axis=1) #열로 합치기 : axis=1\n",
        "print(c)\n",
        "\n",
        "c1 = np.r_[a,b],'.r_로 합친것'\n",
        "print(c1)\n",
        "\n",
        "c2 = np.c_[a,b],'.c_로 합친것'\n",
        "print(c2)"
      ],
      "metadata": {
        "colab": {
          "base_uri": "https://localhost:8080/"
        },
        "id": "bycBo0iLFCe2",
        "outputId": "c4c3bc73-1490-4040-f7b9-53d03c0dd5a8"
      },
      "execution_count": null,
      "outputs": [
        {
          "output_type": "stream",
          "name": "stdout",
          "text": [
            "[[1 2]\n",
            " [3 4]]\n",
            "[[5 6]\n",
            " [7 8]]\n",
            "[[1 2]\n",
            " [3 4]\n",
            " [5 6]\n",
            " [7 8]]\n",
            "[[1 2 5 6]\n",
            " [3 4 7 8]]\n",
            "(array([[1, 2],\n",
            "       [3, 4],\n",
            "       [5, 6],\n",
            "       [7, 8]]), '.r_로 합친것')\n",
            "(array([[1, 2, 5, 6],\n",
            "       [3, 4, 7, 8]]), '.c_로 합친것')\n"
          ]
        }
      ]
    },
    {
      "cell_type": "code",
      "source": [
        "#hstack- 수평 , vstack - 수직\n",
        "a = np.array([[1,2],[3,4]])\n",
        "b = np.array([[5,6],[7,8]])\n",
        "c = np.hstack((a,b))\n",
        "print(c)\n",
        "c1 = np.vstack((a,b))\n",
        "print(c1)"
      ],
      "metadata": {
        "colab": {
          "base_uri": "https://localhost:8080/"
        },
        "id": "0gPS8k_UGqUj",
        "outputId": "222a0d85-387d-4918-ca79-25be460e59a5"
      },
      "execution_count": null,
      "outputs": [
        {
          "output_type": "stream",
          "name": "stdout",
          "text": [
            "[[1 2 5 6]\n",
            " [3 4 7 8]]\n",
            "[[1 2]\n",
            " [3 4]\n",
            " [5 6]\n",
            " [7 8]]\n"
          ]
        }
      ]
    },
    {
      "cell_type": "code",
      "source": [
        "a = np.zeros(5) #'zeros:0을 5개를 만든다'\n",
        "print(a)\n",
        "\n",
        "b = np.ones(5) #'ones:1을 5개를 만든다'\n",
        "print(b)\n",
        "\n",
        "c = np.zeros((3,5)) #'3행 5열인 리스트를 만든다'\n",
        "print(c)\n",
        "\n",
        "d = np.ones((5,4))#'5행 4열인 리스트를 만든다'\n",
        "print(d)\n",
        "\n",
        "print(a.dtype)\n",
        "\n",
        "#모든 요소값을 전부 5로 하고싶을때\n",
        "b = np.full((5,5),10)\n",
        "print(b)\n",
        "\n",
        "a = np.full((3,4),7)\n",
        "print(a)\n",
        "\n",
        "c = np.full((3,3),9)\n",
        "print(c)\n",
        "\n",
        "d = np.full((3,5),2)\n",
        "print(d)\n"
      ],
      "metadata": {
        "colab": {
          "base_uri": "https://localhost:8080/"
        },
        "id": "RanMiWLgIOZw",
        "outputId": "f217886f-c3c3-4e9e-e060-10a6a4a22cef"
      },
      "execution_count": null,
      "outputs": [
        {
          "output_type": "stream",
          "name": "stdout",
          "text": [
            "[0. 0. 0. 0. 0.]\n",
            "[1. 1. 1. 1. 1.]\n",
            "[[0. 0. 0. 0. 0.]\n",
            " [0. 0. 0. 0. 0.]\n",
            " [0. 0. 0. 0. 0.]]\n",
            "[[1. 1. 1. 1.]\n",
            " [1. 1. 1. 1.]\n",
            " [1. 1. 1. 1.]\n",
            " [1. 1. 1. 1.]\n",
            " [1. 1. 1. 1.]]\n",
            "float64\n",
            "[[10 10 10 10 10]\n",
            " [10 10 10 10 10]\n",
            " [10 10 10 10 10]\n",
            " [10 10 10 10 10]\n",
            " [10 10 10 10 10]]\n",
            "[[7 7 7 7]\n",
            " [7 7 7 7]\n",
            " [7 7 7 7]]\n",
            "[[9 9 9]\n",
            " [9 9 9]\n",
            " [9 9 9]]\n",
            "[[2 2 2 2 2]\n",
            " [2 2 2 2 2]\n",
            " [2 2 2 2 2]]\n"
          ]
        }
      ]
    },
    {
      "cell_type": "code",
      "source": [
        "a = np.empty(4)\n",
        "print(a)\n",
        "\n",
        "a = np.empty(4, dtype = np.int64)\n",
        "print(a)\n",
        "\n",
        "a = np.empty((2,4), dtype= np.int32)\n",
        "print(a)\n"
      ],
      "metadata": {
        "colab": {
          "base_uri": "https://localhost:8080/"
        },
        "id": "ZW6mwpR7Nlyc",
        "outputId": "969ac30d-0d12-452b-f668-b945635ebb72"
      },
      "execution_count": null,
      "outputs": [
        {
          "output_type": "stream",
          "name": "stdout",
          "text": [
            "[[1 0 2 0]\n",
            " [3 0 4 0]]\n"
          ]
        }
      ]
    },
    {
      "cell_type": "markdown",
      "source": [
        "### Math\n",
        "* 합계\n",
        "* 누적합\n",
        "* 평균\n"
      ],
      "metadata": {
        "id": "qMGj2CTtOpW8"
      }
    },
    {
      "cell_type": "code",
      "source": [
        "a = np.array([[1,2,3],[4,5,6]])\n",
        "b = np.array([[2,2,2],[3,3,3]])\n",
        "print(a)\n",
        "print(b)\n",
        "print(a + b)\n",
        "print(a - b)\n",
        "print(a / b)\n",
        "print(a * b)"
      ],
      "metadata": {
        "colab": {
          "base_uri": "https://localhost:8080/"
        },
        "id": "dJF_FtE9O1eE",
        "outputId": "427baafd-de9c-4e72-d63c-f71cc9992973"
      },
      "execution_count": null,
      "outputs": [
        {
          "output_type": "stream",
          "name": "stdout",
          "text": [
            "[[1 2 3]\n",
            " [4 5 6]]\n",
            "[[2 2 2]\n",
            " [3 3 3]]\n",
            "[[3 4 5]\n",
            " [7 8 9]]\n",
            "[[-1  0  1]\n",
            " [ 1  2  3]]\n",
            "[[0.5        1.         1.5       ]\n",
            " [1.33333333 1.66666667 2.        ]]\n",
            "[[ 2  4  6]\n",
            " [12 15 18]]\n"
          ]
        }
      ]
    },
    {
      "cell_type": "code",
      "source": [
        "#행렬 곱하기 @ , matmul\n",
        "a = np.array([[1,2,3],[4,5,6]]) #2행 3열\n",
        "b = np.array([[2,2],[3,3],[4,4]])#3행 2열\n",
        "c = a@b #행렬곱하기\n",
        "print(c)\n",
        "c = np.matmul(a,b) #행렬곱하기\n",
        "print(c)"
      ],
      "metadata": {
        "colab": {
          "base_uri": "https://localhost:8080/"
        },
        "id": "3VR3XasQPrCN",
        "outputId": "de45b1df-6e1a-4309-e267-bd221b722a66"
      },
      "execution_count": null,
      "outputs": [
        {
          "output_type": "stream",
          "name": "stdout",
          "text": [
            "[[20 20]\n",
            " [47 47]]\n",
            "[[20 20]\n",
            " [47 47]]\n"
          ]
        }
      ]
    },
    {
      "cell_type": "code",
      "source": [
        "#제곱\n",
        "a = np.array([1,2,3,4])\n",
        "a1 = np.square(a)\n",
        "print(a)\n",
        "print(a1)\n",
        "\n",
        "#제곱근\n",
        "a = np.array([1,2,3,4])\n",
        "print(np.sqrt(a))\n",
        "\n",
        "#합계\n",
        "np.sum(a)\n",
        "\n",
        "#평균\n",
        "print(np.mean(a))\n",
        "print(np.average(a))\n",
        "\n",
        "#최대값\n",
        "print(np.max(a))\n",
        "print(np.amax(a))\n",
        "#최솟값\n",
        "print(np.min(a))\n",
        "print(np.amin(a))\n",
        "#누적값\n",
        "print(np.cumsum(a))\n",
        "\n",
        "#누적곱\n",
        "a = np.arange(1,7)\n",
        "print(a)\n",
        "print(np.cumprod(a))\n",
        "print(np.cumproduct(a))\n",
        "\n"
      ],
      "metadata": {
        "colab": {
          "base_uri": "https://localhost:8080/"
        },
        "id": "DjTmMiLsRYnP",
        "outputId": "6be8a2de-97cd-4f8f-82dc-f591f84571ee"
      },
      "execution_count": null,
      "outputs": [
        {
          "output_type": "stream",
          "name": "stdout",
          "text": [
            "[1 2 3 4]\n",
            "[ 1  4  9 16]\n",
            "[1.         1.41421356 1.73205081 2.        ]\n",
            "2.5\n",
            "2.5\n",
            "4\n",
            "4\n",
            "1\n",
            "1\n",
            "[ 1  3  6 10]\n",
            "[1 2 3 4 5 6]\n",
            "[  1   2   6  24 120 720]\n",
            "[  1   2   6  24 120 720]\n"
          ]
        }
      ]
    },
    {
      "cell_type": "markdown",
      "source": [
        "PI\n",
        "e\n",
        "exp\n",
        "sin\n",
        "cos\n",
        "tan\n",
        "log\n"
      ],
      "metadata": {
        "id": "FB8T8GT5TkGz"
      }
    },
    {
      "cell_type": "code",
      "source": [
        "from numpy import pi,e, exp , sin , cos , tan ,log\n",
        "import numpy as np"
      ],
      "metadata": {
        "id": "4_gtnsFiTWVl"
      },
      "execution_count": null,
      "outputs": []
    },
    {
      "cell_type": "code",
      "source": [
        "print(pi)\n",
        "print(e)\n",
        "print(np.exp(1))\n",
        "x = np.array([0,1,2])\n",
        "y = np.exp(x)\n",
        "print(x)\n",
        "print(y)\n",
        "print(sin)\n",
        "print(cos)\n",
        "print(tan)\n",
        "print(log)"
      ],
      "metadata": {
        "colab": {
          "base_uri": "https://localhost:8080/"
        },
        "id": "5qcOgFAUTyep",
        "outputId": "60e45e8e-088b-484b-ea4f-720f39ef11e8"
      },
      "execution_count": null,
      "outputs": [
        {
          "output_type": "stream",
          "name": "stdout",
          "text": [
            "3.141592653589793\n",
            "2.718281828459045\n",
            "2.718281828459045\n",
            "[0 1 2]\n",
            "[1.         2.71828183 7.3890561 ]\n",
            "<ufunc 'sin'>\n",
            "<ufunc 'cos'>\n",
            "<ufunc 'tan'>\n",
            "<ufunc 'log'>\n"
          ]
        }
      ]
    },
    {
      "cell_type": "code",
      "source": [
        "import matplotlib.pyplot as plt #그래프 그리는 라이브러리\n",
        "x = np.linspace(-2 , 2 ,100)\n",
        "y = np.exp(x)\n",
        "print(y)\n",
        "\n",
        "plt.plot(x,y,color='black')"
      ],
      "metadata": {
        "colab": {
          "base_uri": "https://localhost:8080/",
          "height": 760
        },
        "id": "Dn5u2Sp3Uoml",
        "outputId": "c0f8b026-3181-4b39-a78f-5bd9aec47f94"
      },
      "execution_count": null,
      "outputs": [
        {
          "output_type": "stream",
          "name": "stdout",
          "text": [
            "[0.13533528 0.14091534 0.14672548 0.15277518 0.15907431 0.16563316\n",
            " 0.17246245 0.17957331 0.18697737 0.19468671 0.20271391 0.21107209\n",
            " 0.21977488 0.22883651 0.23827175 0.24809603 0.25832537 0.26897649\n",
            " 0.28006676 0.2916143  0.30363796 0.31615738 0.32919299 0.34276607\n",
            " 0.35689879 0.37161423 0.3869364  0.40289032 0.41950205 0.4367987\n",
            " 0.45480852 0.4735609  0.49308648 0.51341712 0.53458602 0.55662774\n",
            " 0.57957828 0.6034751  0.62835721 0.65426525 0.68124152 0.70933005\n",
            " 0.73857671 0.76902926 0.8007374  0.83375292 0.86812971 0.9039239\n",
            " 0.94119394 0.98000067 1.02040746 1.06248028 1.10628782 1.1519016\n",
            " 1.1993961  1.24884887 1.30034064 1.35395549 1.40978096 1.46790818\n",
            " 1.52843208 1.59145146 1.65706921 1.72539247 1.7965328  1.87060634\n",
            " 1.94773404 2.02804182 2.1116608  2.19872751 2.2893841  2.38377858\n",
            " 2.48206508 2.58440408 2.69096264 2.80191477 2.91744161 3.03773178\n",
            " 3.16298168 3.2933958  3.42918709 3.57057723 3.71779709 3.87108703\n",
            " 4.03069732 4.19688857 4.36993212 4.55011049 4.73771786 4.93306055\n",
            " 5.13645748 5.34824076 5.56875615 5.7983637  6.03743829 6.28637026\n",
            " 6.54556603 6.81544881 7.09645923 7.3890561 ]\n"
          ]
        },
        {
          "output_type": "execute_result",
          "data": {
            "text/plain": [
              "[<matplotlib.lines.Line2D at 0x7cb8c015acb0>]"
            ]
          },
          "metadata": {},
          "execution_count": 500
        },
        {
          "output_type": "display_data",
          "data": {
            "text/plain": [
              "<Figure size 640x480 with 1 Axes>"
            ],
            "image/png": "[encoded data removed]"
          },
          "metadata": {}
        }
      ]
    },
    {
      "cell_type": "markdown",
      "source": [
        "random - 난수"
      ],
      "metadata": {
        "id": "phkIt2vTV4ev"
      }
    },
    {
      "cell_type": "markdown",
      "source": [
        "print(np.random.rand(1))\n",
        "print(np.random.rand(3))\n",
        "plt.plot(np.random.rand(8))"
      ],
      "metadata": {
        "id": "joiiD6cOV-uB"
      }
    },
    {
      "cell_type": "markdown",
      "source": [
        "파일로 저장하기 np.save('파일명',넘파이자료)\n",
        "\n",
        " 파일로 불러오기 np.loade('파일명')\n",
        "\n",
        "\n"
      ],
      "metadata": {
        "id": "yolsyCXBWlN2"
      }
    },
    {
      "cell_type": "code",
      "source": [
        "# 0 ~ 99까지 10행 10열 2차원 배열 만들기\n",
        "a = np.arange(0,100).reshape(10,10)\n",
        "print(a)\n",
        "np.save('test.npy',a)"
      ],
      "metadata": {
        "colab": {
          "base_uri": "https://localhost:8080/"
        },
        "id": "eaM3y-8LWyO3",
        "outputId": "8e28e469-7b27-411c-e964-f9702f95c10d"
      },
      "execution_count": null,
      "outputs": [
        {
          "output_type": "stream",
          "name": "stdout",
          "text": [
            "[[ 0  1  2  3  4  5  6  7  8  9]\n",
            " [10 11 12 13 14 15 16 17 18 19]\n",
            " [20 21 22 23 24 25 26 27 28 29]\n",
            " [30 31 32 33 34 35 36 37 38 39]\n",
            " [40 41 42 43 44 45 46 47 48 49]\n",
            " [50 51 52 53 54 55 56 57 58 59]\n",
            " [60 61 62 63 64 65 66 67 68 69]\n",
            " [70 71 72 73 74 75 76 77 78 79]\n",
            " [80 81 82 83 84 85 86 87 88 89]\n",
            " [90 91 92 93 94 95 96 97 98 99]]\n"
          ]
        }
      ]
    },
    {
      "cell_type": "code",
      "source": [
        "#넘파이 불러오기\n",
        "k = np.load('test.npy')\n",
        "print(k)"
      ],
      "metadata": {
        "colab": {
          "base_uri": "https://localhost:8080/"
        },
        "id": "g3zzLQ3dYHjf",
        "outputId": "cd190dfe-a9ac-4e50-acef-85554d3e90ac"
      },
      "execution_count": null,
      "outputs": [
        {
          "output_type": "stream",
          "name": "stdout",
          "text": [
            "[[ 0  1  2  3  4  5  6  7  8  9]\n",
            " [10 11 12 13 14 15 16 17 18 19]\n",
            " [20 21 22 23 24 25 26 27 28 29]\n",
            " [30 31 32 33 34 35 36 37 38 39]\n",
            " [40 41 42 43 44 45 46 47 48 49]\n",
            " [50 51 52 53 54 55 56 57 58 59]\n",
            " [60 61 62 63 64 65 66 67 68 69]\n",
            " [70 71 72 73 74 75 76 77 78 79]\n",
            " [80 81 82 83 84 85 86 87 88 89]\n",
            " [90 91 92 93 94 95 96 97 98 99]]\n"
          ]
        }
      ]
    },
    {
      "cell_type": "code",
      "source": [
        "#파일 가지고오기\n",
        "#또는 그냥 끌어서 복사해서 가지고와두됨\n",
        "# from google.colab import files\n",
        "# f = files.upload()\n",
        "\n",
        "import numpy as np\n",
        "data = np.loadtxt('chocolate_rating.csv', delimiter=',')\n",
        "# print(data)\n",
        "print(data.ndim)\n",
        "print(data.shape)\n",
        "print(data.size)\n",
        "\n",
        "rating_mean = data[: ,3].mean()\n",
        "print(rating_mean)\n",
        "\n",
        "high_level = data[data[:,3]>= 4]\n",
        "print(high_level[:,0])\n",
        "\n",
        "high_id = high_level[:, 0 ].astype(np.int64)\n",
        "print(high_id)\n",
        "print('우수 초콜릿 수는?',high_id.size)\n"
      ],
      "metadata": {
        "colab": {
          "base_uri": "https://localhost:8080/"
        },
        "id": "IigLvSJvbW2a",
        "outputId": "fdfcba45-71d8-40eb-ee51-91c09d6aa625"
      },
      "execution_count": null,
      "outputs": [
        {
          "output_type": "stream",
          "name": "stdout",
          "text": [
            "2\n",
            "(1795, 4)\n",
            "7180\n",
            "3.185933147632312\n",
            "[  10.   18.   21.   55.   57.   77.   78.   79.   84.   87.   88.   93.\n",
            "  108.  109.  118.  124.  153.  180.  181.  187.  223.  232.  233.  240.\n",
            "  243.  244.  245.  248.  257.  312.  316.  317.  358.  437.  503.  567.\n",
            "  573.  574.  582.  601.  650.  687.  690.  691.  701.  720.  730.  800.\n",
            "  828.  862.  864.  865.  866.  883.  919.  993. 1088. 1089. 1118. 1119.\n",
            " 1120. 1204. 1241. 1245. 1247. 1274. 1277. 1278. 1289. 1291. 1293. 1295.\n",
            " 1323. 1331. 1336. 1378. 1394. 1426. 1428. 1433. 1479. 1488. 1513. 1516.\n",
            " 1529. 1530. 1531. 1533. 1536. 1537. 1544. 1545. 1664. 1683. 1686. 1688.\n",
            " 1694. 1700. 1740. 1757.]\n",
            "[  10   18   21   55   57   77   78   79   84   87   88   93  108  109\n",
            "  118  124  153  180  181  187  223  232  233  240  243  244  245  248\n",
            "  257  312  316  317  358  437  503  567  573  574  582  601  650  687\n",
            "  690  691  701  720  730  800  828  862  864  865  866  883  919  993\n",
            " 1088 1089 1118 1119 1120 1204 1241 1245 1247 1274 1277 1278 1289 1291\n",
            " 1293 1295 1323 1331 1336 1378 1394 1426 1428 1433 1479 1488 1513 1516\n",
            " 1529 1530 1531 1533 1536 1537 1544 1545 1664 1683 1686 1688 1694 1700\n",
            " 1740 1757]\n",
            "우수 초콜릿 수는? 100\n"
          ]
        }
      ]
    },
    {
      "cell_type": "code",
      "source": [
        "high_kakao = high_level[: , 2] #모든행의 2열만 출력\n",
        "print(high_kakao)\n",
        "unique_values , values_counts = np.unique(high_kakao, return_counts=True)\n",
        "print('카카오 함유량',unique_values ,'함류량별 빈도수' ,values_counts)"
      ],
      "metadata": {
        "colab": {
          "base_uri": "https://localhost:8080/"
        },
        "id": "R-CXRI3uYRrM",
        "outputId": "aa3cb260-0b56-421b-c815-e3e499b3eb46"
      },
      "execution_count": null,
      "outputs": [
        {
          "output_type": "stream",
          "name": "stdout",
          "text": [
            "[0.7  0.7  0.63 0.7  0.7  0.7  0.75 0.7  0.7  0.7  0.66 0.6  0.7  0.7\n",
            " 0.7  0.72 0.7  0.73 0.72 0.72 0.75 0.75 0.75 0.75 0.75 0.75 0.75 0.75\n",
            " 0.7  0.71 0.7  0.7  0.72 0.75 0.7  0.7  0.7  0.7  0.7  0.7  0.68 0.7\n",
            " 0.74 0.69 0.7  0.74 0.7  0.72 0.7  0.74 0.7  0.72 0.72 0.7  0.7  0.63\n",
            " 0.68 0.74 0.67 0.65 0.64 0.75 0.7  0.7  0.7  0.75 0.7  0.67 0.7  0.72\n",
            " 0.72 0.72 0.75 0.75 0.8  0.75 0.75 0.7  0.78 0.65 0.7  0.72 0.7  0.75\n",
            " 0.88 0.7  0.67 0.7  0.7  0.7  0.64 0.7  0.7  0.63 0.69 0.64 0.64 0.7\n",
            " 0.7  0.7 ]\n",
            "카카오 함유량 [0.6  0.63 0.64 0.65 0.66 0.67 0.68 0.69 0.7  0.71 0.72 0.73 0.74 0.75\n",
            " 0.78 0.8  0.88] 함류량별 빈도수 [ 1  3  4  2  1  3  2  2 45  1 11  1  4 17  1  1  1]\n"
          ]
        }
      ]
    },
    {
      "cell_type": "code",
      "source": [
        "max = np.argmax(values_counts)\n",
        "print(max)\n",
        "print(unique_values[max])\n",
        "print('우수초콜릿',high_id.size ,'가지중',values_counts[max],'가지의 카카오 함유량이',unique_values[max] * 100 ,'% 입니다')\n"
      ],
      "metadata": {
        "colab": {
          "base_uri": "https://localhost:8080/"
        },
        "id": "QBwWWFqckI2r",
        "outputId": "2d5c546c-c714-4c62-8028-397c284efc87"
      },
      "execution_count": null,
      "outputs": [
        {
          "output_type": "stream",
          "name": "stdout",
          "text": [
            "8\n",
            "0.7\n",
            "우수초콜릿 100 가지중 45 가지의 카카오 함유량이 70.0 % 입니다\n"
          ]
        }
      ]
    },
    {
      "cell_type": "markdown",
      "source": [
        "넘파이 연습문제"
      ],
      "metadata": {
        "id": "xV7UwOG6BVlc"
      }
    },
    {
      "cell_type": "code",
      "source": [
        "# 넘파이 모듈을 np라는 이름으로 임포트해보세요.\n",
        "import numpy as np\n",
        "\n",
        "# 2. 리스트를 넘파이의 ndarry 객체로 변환해보세요. data = [1,2,3]\n",
        "data = [1,2,3]\n",
        "ndarray = np.array(data)\n",
        "\n",
        "print(ndarray)\n",
        "\n",
        "# 3. 0부터 99까지의 정수가 저장된 ndarray 객체를 만들어 보세요( 힌트 arange)\n",
        "\n",
        "ndarray = np.arange(0,100,1)\n",
        "print(ndarray)\n",
        "\n",
        "# 4. 구구단 3단의 결과가 저장된 gugu객체를 만들어 보세요 ( 힌트 arange\n",
        "# [ 3 6 9 12 15 18 21 24 27]\n",
        "gugu = np.arange(3,30,3)\n",
        "print(gugu)\n",
        "\n",
        "# 5. 1000보다 작은 짝수가 저장된 evenObj 객체를 만드시오 ( 힌트 arange)\n",
        "evenObj = np.arange(2,1000,2)\n",
        "print('5',evenObj)\n",
        "\n",
        "# 6. 0부터 1까지 0.1간격으로 구성된 aObj 객체를 만드시오 1은 포함되지 않습니다\n",
        "aObj = np.arange(0,1,0.1)\n",
        "print(aObj)\n",
        "\n",
        "\n",
        "# 7. 리스트에는 6개의 데이터가 저장되어 있습니다\n",
        "\n",
        "data=[0,1,2,3,4,5]\n",
        "\n",
        "# 다음과 같이 2행 3열의 a7객체로 변환하세요\n",
        "a7 = np.array(data).reshape(2,3)\n",
        "print(a7)\n",
        "# [[0 1 2]\n",
        "#  [3 4 5 ] ]\n",
        "\n",
        "# 8. 힌트 reshape\n",
        "# 다음의 2차원 a8 1차원 a81로 변환하세요\n",
        "#                      [0,1,2],\n",
        "#                      [3,4,5]\n",
        "a8 = np.array([[0,1,2] ,[3,4,5]])\n",
        "print(a8)\n",
        "a81 = a8.reshape(6)\n",
        "print(a81)\n",
        "\n",
        "# 9. 힌트 reshape\n",
        "# 주어진 a9를 다음과 같이 변경해 보세요\n",
        "a9 = np.arange(3) # [0 1 2 ]\n",
        "# [ [0]\n",
        "#   [1]\n",
        "#   [2] ]\n",
        "a9 = a9.reshape( 3, 1)\n",
        "print(a9)\n",
        "\n",
        "\n",
        "# 10. 아래 코드는 에러가 난다 이유는?\n",
        "\n",
        "# np.arange(6).reshape(2,4)\n",
        "# 변수에 넣지 않아서?"
      ],
      "metadata": {
        "colab": {
          "base_uri": "https://localhost:8080/"
        },
        "id": "n49IyivNBQmV",
        "outputId": "21a138f8-291f-401b-cb70-6449789af087"
      },
      "execution_count": null,
      "outputs": [
        {
          "output_type": "stream",
          "name": "stdout",
          "text": [
            "[1 2 3]\n",
            "[ 0  1  2  3  4  5  6  7  8  9 10 11 12 13 14 15 16 17 18 19 20 21 22 23\n",
            " 24 25 26 27 28 29 30 31 32 33 34 35 36 37 38 39 40 41 42 43 44 45 46 47\n",
            " 48 49 50 51 52 53 54 55 56 57 58 59 60 61 62 63 64 65 66 67 68 69 70 71\n",
            " 72 73 74 75 76 77 78 79 80 81 82 83 84 85 86 87 88 89 90 91 92 93 94 95\n",
            " 96 97 98 99]\n",
            "[ 3  6  9 12 15 18 21 24 27]\n",
            "5 [  2   4   6   8  10  12  14  16  18  20  22  24  26  28  30  32  34  36\n",
            "  38  40  42  44  46  48  50  52  54  56  58  60  62  64  66  68  70  72\n",
            "  74  76  78  80  82  84  86  88  90  92  94  96  98 100 102 104 106 108\n",
            " 110 112 114 116 118 120 122 124 126 128 130 132 134 136 138 140 142 144\n",
            " 146 148 150 152 154 156 158 160 162 164 166 168 170 172 174 176 178 180\n",
            " 182 184 186 188 190 192 194 196 198 200 202 204 206 208 210 212 214 216\n",
            " 218 220 222 224 226 228 230 232 234 236 238 240 242 244 246 248 250 252\n",
            " 254 256 258 260 262 264 266 268 270 272 274 276 278 280 282 284 286 288\n",
            " 290 292 294 296 298 300 302 304 306 308 310 312 314 316 318 320 322 324\n",
            " 326 328 330 332 334 336 338 340 342 344 346 348 350 352 354 356 358 360\n",
            " 362 364 366 368 370 372 374 376 378 380 382 384 386 388 390 392 394 396\n",
            " 398 400 402 404 406 408 410 412 414 416 418 420 422 424 426 428 430 432\n",
            " 434 436 438 440 442 444 446 448 450 452 454 456 458 460 462 464 466 468\n",
            " 470 472 474 476 478 480 482 484 486 488 490 492 494 496 498 500 502 504\n",
            " 506 508 510 512 514 516 518 520 522 524 526 528 530 532 534 536 538 540\n",
            " 542 544 546 548 550 552 554 556 558 560 562 564 566 568 570 572 574 576\n",
            " 578 580 582 584 586 588 590 592 594 596 598 600 602 604 606 608 610 612\n",
            " 614 616 618 620 622 624 626 628 630 632 634 636 638 640 642 644 646 648\n",
            " 650 652 654 656 658 660 662 664 666 668 670 672 674 676 678 680 682 684\n",
            " 686 688 690 692 694 696 698 700 702 704 706 708 710 712 714 716 718 720\n",
            " 722 724 726 728 730 732 734 736 738 740 742 744 746 748 750 752 754 756\n",
            " 758 760 762 764 766 768 770 772 774 776 778 780 782 784 786 788 790 792\n",
            " 794 796 798 800 802 804 806 808 810 812 814 816 818 820 822 824 826 828\n",
            " 830 832 834 836 838 840 842 844 846 848 850 852 854 856 858 860 862 864\n",
            " 866 868 870 872 874 876 878 880 882 884 886 888 890 892 894 896 898 900\n",
            " 902 904 906 908 910 912 914 916 918 920 922 924 926 928 930 932 934 936\n",
            " 938 940 942 944 946 948 950 952 954 956 958 960 962 964 966 968 970 972\n",
            " 974 976 978 980 982 984 986 988 990 992 994 996 998]\n",
            "[0.  0.1 0.2 0.3 0.4 0.5 0.6 0.7 0.8 0.9]\n",
            "[[0 1 2]\n",
            " [3 4 5]]\n",
            "[[0 1 2]\n",
            " [3 4 5]]\n",
            "[0 1 2 3 4 5]\n",
            "[[0]\n",
            " [1]\n",
            " [2]]\n"
          ]
        }
      ]
    },
    {
      "cell_type": "code",
      "source": [
        "# 11. 다음과 같이 2차원 a11객체를 만드세요\n",
        "# [ [0 1 2]\n",
        "#   [3 4 5 ] ]\n",
        "\n",
        "a11 = np.array([[0,1,2],[3,4,5]])\n",
        "print(a11)\n",
        "\n",
        "# 12. 1이 20개 저장된 아래의 a12객체를 만들어 보세요 (힌트 ones)\n",
        "# [ 1 1 1 1 1 1 1 1 1  1 1 1 1 1 1  1 1]\n",
        "a12 = np.ones(20,dtype=int)\n",
        "print(a12)\n",
        "\n",
        "# 13. 4행 5열로 저장된 아래의 a13객체를 만드시오\n",
        "#  [[1 1 1 1 1]\n",
        "#  [1 1 1 1 1]\n",
        "#  [1 1 1 1 1]\n",
        "#  [1 1 1 1 1]]\n",
        "\n",
        "a13 = np.ones(20,dtype=int).reshape(4,5)\n",
        "print(a13)\n",
        "\n",
        "# 14.  255로 채워진 10 X 10 크기의 a14 객체를 생성하시오\n",
        "\n",
        "a14 = np.ones(100,dtype=int).reshape(10,10)\n",
        "a14 *= 255\n",
        "print(a14)\n",
        "\n",
        "# 15. 3 X 4 크기의 0으로 채워진 배열을 생성하시오 (힌트 zeros)\n",
        "a15 = np.zeros(12).reshape(3,4)\n",
        "print(a15)\n",
        "\n"
      ],
      "metadata": {
        "colab": {
          "base_uri": "https://localhost:8080/"
        },
        "id": "x9UNWoT-IsYe",
        "outputId": "16c6d638-63e4-4f54-ea72-feb460109e25"
      },
      "execution_count": null,
      "outputs": [
        {
          "output_type": "stream",
          "name": "stdout",
          "text": [
            "[[0 1 2]\n",
            " [3 4 5]]\n",
            "[1 1 1 1 1 1 1 1 1 1 1 1 1 1 1 1 1 1 1 1]\n",
            "[[1 1 1 1 1]\n",
            " [1 1 1 1 1]\n",
            " [1 1 1 1 1]\n",
            " [1 1 1 1 1]]\n",
            "[[255 255 255 255 255 255 255 255 255 255]\n",
            " [255 255 255 255 255 255 255 255 255 255]\n",
            " [255 255 255 255 255 255 255 255 255 255]\n",
            " [255 255 255 255 255 255 255 255 255 255]\n",
            " [255 255 255 255 255 255 255 255 255 255]\n",
            " [255 255 255 255 255 255 255 255 255 255]\n",
            " [255 255 255 255 255 255 255 255 255 255]\n",
            " [255 255 255 255 255 255 255 255 255 255]\n",
            " [255 255 255 255 255 255 255 255 255 255]\n",
            " [255 255 255 255 255 255 255 255 255 255]]\n",
            "[[0. 0. 0. 0.]\n",
            " [0. 0. 0. 0.]\n",
            " [0. 0. 0. 0.]]\n"
          ]
        }
      ]
    },
    {
      "cell_type": "code",
      "source": [
        "# 16. [ 1, 2, 3]을 np.int32 타입의 a16 배열로 생성하시오(힌트 dtype)\n",
        "a16 = np.array([1,2,3],dtype=np.int32)\n",
        "print(a16)\n",
        "# 17. 다음 배열의 데이터 타입을 확인해 보세요\n",
        "a17 = np.array([ 1, 2, 3])\n",
        "print(a17.dtype)\n",
        "\n",
        "# 18.  다음 배열의 데이터 타입을 확인해 보세요\n",
        "a18 = np.array([ '1', '2', '3'] )\n",
        "print(a18.dtype) # <U1 유니코드 타입이다>\n",
        "\n",
        "# 19. 다음 데이터를 np.int16 타입의 배열로 형변환해 보세요\n",
        "\n",
        "a19 = np.array([ 1, 2, 3] )\n",
        "print('19 기본자료형',a19.dtype)\n",
        "a19 = a19.astype (np.int16)\n",
        "print('19 변경한자료형', a19.dtype)\n",
        "\n",
        "# 20. 300이 44로 출력되는 이유를 설명하세요\n",
        "a = np.array( [ 255, 300, 128], dtype=np.uint8 )\n",
        "# a\n",
        "# [255  44 128]\n",
        "\n",
        "print(a)\n",
        "#will give the desired result (the cast overflows).  300은 자료표현범위에서 벗어남으로 dtype을 변형해서 넣어줘야한다."
      ],
      "metadata": {
        "colab": {
          "base_uri": "https://localhost:8080/"
        },
        "id": "GhHv_AwtNhjk",
        "outputId": "3c98305b-36e2-4830-f34d-005ef28999c1"
      },
      "execution_count": null,
      "outputs": [
        {
          "output_type": "stream",
          "name": "stdout",
          "text": [
            "[1 2 3]\n",
            "int64\n",
            "<U1\n",
            "19 기본자료형 int64\n",
            "19 변경한자료형 int16\n",
            "[255  44 128]\n"
          ]
        },
        {
          "output_type": "stream",
          "name": "stderr",
          "text": [
            "<ipython-input-12-67528589b940>:20: DeprecationWarning: NumPy will stop allowing conversion of out-of-bound Python integers to integer arrays.  The conversion of 300 to uint8 will fail in the future.\n",
            "For the old behavior, usually:\n",
            "    np.array(value).astype(dtype)\n",
            "will give the desired result (the cast overflows).\n",
            "  a = np.array( [ 255, 300, 128], dtype=np.uint8 )\n"
          ]
        }
      ]
    },
    {
      "cell_type": "markdown",
      "source": [],
      "metadata": {
        "id": "h5v98TN7QkFb"
      }
    },
    {
      "cell_type": "code",
      "source": [
        "# 21. 힌트 astype\n",
        "# a21배열은 float64 타입입니다. 이를 np.int32타입으로 변경하세요.\n",
        "import numpy as np\n",
        "a21=np.array([ 1.1, 2.1, 3.1 ],dtype=np.int32)\n",
        "print(a21)\n",
        "print(a21.dtype)\n",
        "\n",
        "\n",
        "# 22. 0~10사이 구간을 20개의 포인터로 분할한 결과를 a22객체로 생성하시오(힌트 linespace)\n",
        "a22 = np.linspace(0,1,20)\n",
        "print(a22)\n",
        "\n",
        "# 23.  아래 객체에서 마지막 행[6,7,8]을 출력해 보세요\n",
        "a23 = np.arange(9).reshape(3, 3)\n",
        "print(a23[2::])\n",
        "\n",
        "# [[0 1 2]\n",
        "#  [3 4 5]\n",
        "#  [6 7 8]]\n",
        "\n",
        "# 24. 데이터 인덱싱\n",
        "# 아래 객체에서 마지막 17 출력해 보세요\n",
        "a24 = np.arange(25).reshape(5, 5)\n",
        "print(a24[3][2])\n",
        "\n",
        "# [[ 0  1  2  3  4]\n",
        "#  [ 5  6  7  8  9]\n",
        "#  [10 11 12 13 14]\n",
        "#  [15 16 17 18 19]\n",
        "#  [20 21 22 23 24]]\n",
        "\n",
        "# 25. 슬라이싱\n",
        "# [1 3]을 슬라이싱 하세요\n",
        "print(a24[0][1],a24[0][3])"
      ],
      "metadata": {
        "colab": {
          "base_uri": "https://localhost:8080/"
        },
        "id": "5W1ySFZ9TUky",
        "outputId": "15793fa1-0cc0-4f06-cfd9-2270d3aafa84"
      },
      "execution_count": null,
      "outputs": [
        {
          "output_type": "stream",
          "name": "stdout",
          "text": [
            "[1 2 3]\n",
            "int32\n",
            "[0.         0.05263158 0.10526316 0.15789474 0.21052632 0.26315789\n",
            " 0.31578947 0.36842105 0.42105263 0.47368421 0.52631579 0.57894737\n",
            " 0.63157895 0.68421053 0.73684211 0.78947368 0.84210526 0.89473684\n",
            " 0.94736842 1.        ]\n",
            "[[6 7 8]]\n",
            "17\n",
            "1 3\n"
          ]
        }
      ]
    },
    {
      "cell_type": "code",
      "source": [
        "# 26. [ 6 7 8 9]를 슬라이싱 하는 코드를 작성하기\n",
        "\n",
        "a26 = np.arange(25).reshape(5, 5)\n",
        "\n",
        "print(a26[1][1:])\n",
        "\n",
        "\n",
        "# [[ 0  1  2  3  4]\n",
        "\n",
        "#  [ 5  6  7  8  9]\n",
        "\n",
        "#  [10 11 12 13 14]\n",
        "\n",
        "#  [15 16 17 18 19]\n",
        "\n",
        "#  [20 21 22 23 24]]\n",
        "\n",
        "\n",
        "\n",
        "# 27. 첫번째와 두번째 컬럼을 슬라이싱하는 코드 작성\n",
        "\n",
        "a27 = np.arange(25).reshape(5, 5)\n",
        "\n",
        "print(a27[0],a27[1])\n",
        "\n",
        "\n",
        "# [[ 0  1  2  3  4]\n",
        "\n",
        "#  [ 5  6  7  8  9]\n",
        "\n",
        "#  [10 11 12 13 14]\n",
        "\n",
        "#  [15 16 17 18 19]\n",
        "\n",
        "#  [20 21 22 23 24]]\n",
        "\n",
        "\n",
        "\n",
        "# 28.  6. 7,11, 12 를 2x2 ndarray로 슬라이싱하는 코드를 작성하세요.\n",
        "\n",
        "a28 = np.arange(25).reshape(5, 5)\n",
        "\n",
        "a28_1 = np.array((a28[1][1:3],a28[2][1:3]))\n",
        "\n",
        "print(a28_1.reshape(2,2))\n",
        "\n",
        "# [[ 0  1  2  3  4]\n",
        "\n",
        "#  [ 5  6  7  8  9]\n",
        "\n",
        "#  [10 11 12 13 14]\n",
        "\n",
        "#  [15 16 17 18 19]\n",
        "\n",
        "#  [20 21 22 23 24]]\n",
        "\n",
        "\n",
        "# 29. 0 3 20 23 를 2x2 ndarray로 슬라이싱하는 코드를 작성하세요.\n",
        "\n",
        "a29 = np.arange(25).reshape(5, 5)\n",
        "# print(a29)\n",
        "a29_1 = np.array( (a29[0][0],a29[0][3],a29[4][0],a29[4][3]))\n",
        "print(a29_1.reshape(2,2))\n",
        "\n",
        "\n",
        "# [[ 0 1 2 3 4]\n",
        "# [ 5 6 7 8 9]\n",
        "# [10 11 12 13 14]\n",
        "# [15 16 17 18 19]\n",
        "# [20 21 22 23 24]]\n",
        "\n",
        "\n",
        "# 30 전체 데이터에 10을 곱한 결과를 a30에 저장하기\n",
        "data = [1,2,3]\n",
        "data_1 = np.array([1,2,3],dtype=int)\n",
        "a30 = data_1 * 10\n",
        "print(a30)\n",
        "\n"
      ],
      "metadata": {
        "colab": {
          "base_uri": "https://localhost:8080/"
        },
        "id": "vvfZHifDZVS1",
        "outputId": "b8ee166d-0595-4d1f-ba4b-2df3066662df"
      },
      "execution_count": null,
      "outputs": [
        {
          "output_type": "stream",
          "name": "stdout",
          "text": [
            "[6 7 8 9]\n",
            "[0 1 2 3 4] [5 6 7 8 9]\n",
            "[[ 6  7]\n",
            " [11 12]]\n",
            "[[ 0  3]\n",
            " [20 23]]\n",
            "[10 20 30]\n"
          ]
        }
      ]
    },
    {
      "cell_type": "code",
      "source": [
        "import numpy as np\n",
        "\n",
        "# 31. 다음 a31에는 중간고사의 국어점수(10), 영어점수(20), 기말고사의 국어점수(14), 영어점수(16)이 저장되어 있다\n",
        "# score = np.array([\n",
        "#     [10, 20],  # 중간고사\n",
        "#     [14, 16]   # 기말고사\n",
        "# ])\n",
        "s31= np.array([[10,20],[14,16]])\n",
        "# 과목별 평균점수를 출력하세요\n",
        "# 결과 화면 [12. 18.]\n",
        "print(s31.mean(axis=0))\n",
        "\n",
        "# 32 31번 문제에서 표준편차를 구하세요\n",
        "print(s31.std(axis=0))\n",
        "\n",
        "# 32_1. 행과 열의 위치를 바꾼 행열을 전치행렬이라고 한다.\n",
        "a32_1 = np.arange(9).reshape(3,3)\n",
        "print('32_1-원래', a32_1)\n",
        "print('32_1-전치행열', a32_1.T) # 또는\n",
        "print('33_1전치행열', a32_1.transpose() )\n",
        "\n",
        "# 33.  다음 배열에서 3보다 크고 7보다 작은 수만 출력하세요\n",
        "a33 = np.arange(3,8,1)\n",
        "print(a33)\n",
        "\n",
        "\n",
        "# 34. 다음 객체에서 음수를 출력하세요\n",
        "a34 = np.array([ -1, 2, -3, 4] )\n",
        "\n",
        "\n",
        "# # 35. 다음 객체에서 음수를 0으로 바꾸세요\n",
        "# a35 = np.array([ -1, 2, -3, 4] )"
      ],
      "metadata": {
        "colab": {
          "base_uri": "https://localhost:8080/"
        },
        "id": "1gs8qictTQiQ",
        "outputId": "30db7789-44b8-4169-eb01-114d1b6600a9"
      },
      "execution_count": null,
      "outputs": [
        {
          "output_type": "stream",
          "name": "stdout",
          "text": [
            "[12. 18.]\n",
            "[2. 2.]\n",
            "32_1-원래 [[0 1 2]\n",
            " [3 4 5]\n",
            " [6 7 8]]\n",
            "32_1-전치행열 [[0 3 6]\n",
            " [1 4 7]\n",
            " [2 5 8]]\n",
            "33_1전치행열 [[0 3 6]\n",
            " [1 4 7]\n",
            " [2 5 8]]\n",
            "[3 4 5 6 7]\n"
          ]
        }
      ]
    },
    {
      "cell_type": "code",
      "source": [
        "# 36.  다음 객체에서 음수를 양수로 바꾸세요\n",
        "a36 = np.array([ -1, 2, -3, 4] )\n",
        "\n",
        "# 37. 다음 객체에서 양수 혹은 0이면 10을 더하고 음수는 10을 빼세요\n",
        "a37 = np.array([ -1, 2, -3, 4] )\n",
        "\n",
        "\n",
        "# 38. numpy random 모듈의 shuffle 함수를 사용해서 입력 리스트의 원소들을 랜덤하게 썩어 보세요\n",
        "a38 = [ 1,2,3,4,5]\n",
        "\n",
        "# 39. 다음 넘파이 배열의 최소값의 인덱스를 출력하세요(힌트 argmin)\n",
        "\n",
        "a39 = np.array([ 1,2,3,4,5] )\n",
        "\n",
        "# 40. 다음 넘파이 배열의 최대값의 인덱스를 출력하세요(힌트 argmax)\n",
        "a40 = np.array([ 1,2,3,4,5] )\n",
        "\n",
        "\n",
        "# 41. 넘파이 배열을 오름차순 정렬해 보세요\n",
        "\n",
        "import numpy as np\n",
        "\n",
        "arr = np.array([2, 1, 5, 3, 7, 4, 6, 8])\n",
        "\n",
        "\n",
        "# 42. numpy.vstack 함수를 사용하여 다음 2차원 배열을 생성하세요\n",
        "\n",
        "arr1 = np.array([1, 2])\n",
        "\n",
        "arr2 = np.array([3, 4])\n",
        "\n",
        "# 결과화면\n",
        "\n",
        "array([[1, 2],\n",
        "\n",
        "       [3, 4]])\n",
        "\n",
        "# 43. flatten 메소드를 이용하여 다음 배열을 1차원 배열로 변경하세요\n",
        "\n",
        "import numpy as np\n",
        "arr = np.array([ [1, 2], [3, 4] ])"
      ],
      "metadata": {
        "id": "mh9oK7GHhO-J"
      },
      "execution_count": null,
      "outputs": []
    }
  ]
}