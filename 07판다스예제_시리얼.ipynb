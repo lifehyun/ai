{
  "nbformat": 4,
  "nbformat_minor": 0,
  "metadata": {
    "colab": {
      "provenance": [],
      "authorship_tag": "ABX9TyObLJDVORKTX2wXZyJmuisO",
      "include_colab_link": true
    },
    "kernelspec": {
      "name": "python3",
      "display_name": "Python 3"
    },
    "language_info": {
      "name": "python"
    }
  },
  "cells": [
    {
      "cell_type": "markdown",
      "metadata": {
        "id": "view-in-github",
        "colab_type": "text"
      },
      "source": [
        "<a href=\"https://colab.research.google.com/github/lifehyun/ai/blob/%2Bpython/07%ED%8C%90%EB%8B%A4%EC%8A%A4%EC%98%88%EC%A0%9C_%EC%8B%9C%EB%A6%AC%EC%96%BC.ipynb\" target=\"_parent\"><img src=\"https://colab.research.google.com/assets/colab-badge.svg\" alt=\"Open In Colab\"/></a>"
      ]
    },
    {
      "cell_type": "markdown",
      "source": [
        "* 판다스는 파이썬의 수 많은 라이브러리 가운데 레이블 형태의 자료를 수집하고 정리하는 데 매우 유용한 도구입니다. 이러한 판다스의 두 가지 대표적인 자료구조가 바로 시리즈(Series)와 데이터프레임(Dataframe)입니다.\n",
        "\n",
        "\n",
        "* Pandas의 Series는 1차원 배열로서 다음의 특징을 가집니다 .\n",
        " * 데이터를 담는 차원 배열 구조를 가집니다.\n",
        " * 인덱스(index)를 사용 가능합니다.\n",
        " * 데이터 타입을 가집니다. (dtype)\n",
        "\n"
      ],
      "metadata": {
        "id": "XFq1LUT8pb8V"
      }
    },
    {
      "cell_type": "code",
      "source": [
        "import numpy as np\n",
        "import pandas as pa"
      ],
      "metadata": {
        "id": "wFZoUJliqCFN"
      },
      "execution_count": null,
      "outputs": []
    },
    {
      "cell_type": "code",
      "source": [
        "# Series의 생성\n",
        "# 1.numpy array로 생성한 경우\n",
        "a1 = np.arange(100 , 105)\n",
        "print('넘파이',a1)\n",
        "pa_a1 = pa.Series(a1)\n",
        "print('판다스',pa_a1)\n",
        "\n",
        "#2.dtype 지정하기\n",
        "pa_a2 = pa.Series(a1,dtype='int32')\n",
        "print('판다스2',pa_a2)\n",
        "pa_a3 = pa.Series(a1,dtype='float32')\n",
        "print('판다스3',pa_a3)\n"
      ],
      "metadata": {
        "colab": {
          "base_uri": "https://localhost:8080/"
        },
        "id": "xLRlkaWMpftJ",
        "outputId": "af46d1d1-7f67-47cc-e929-93e42304f6ee"
      },
      "execution_count": null,
      "outputs": [
        {
          "output_type": "stream",
          "name": "stdout",
          "text": [
            "넘파이 [100 101 102 103 104]\n",
            "판다스 0    100\n",
            "1    101\n",
            "2    102\n",
            "3    103\n",
            "4    104\n",
            "dtype: int64\n",
            "판다스2 0    100\n",
            "1    101\n",
            "2    102\n",
            "3    103\n",
            "4    104\n",
            "dtype: int32\n",
            "판다스3 0    100.0\n",
            "1    101.0\n",
            "2    102.0\n",
            "3    103.0\n",
            "4    104.0\n",
            "dtype: float32\n"
          ]
        }
      ]
    },
    {
      "cell_type": "code",
      "source": [
        "# # Series의 생성방법2 : list를 이용하기\n",
        "data = [91, 2.5 , '문자', 4 , 5.16,7] # 다다른 자료형을 넣음\n",
        "print(data)\n",
        "pa_s2 = pa.Series(data)\n",
        "print(pa_s2)\n",
        "print(pa_s2.dtype) #list안에 자료가 다양하므로 모든 자료형을 표현할수 있는 object형이 나온다\n",
        "print(pa_s2.index) #인덱스의 범위를 알수 있다 # 리스트 생성시 인덱스의 범위를 표기하지 않으면 자동으로 만들어진다.\n",
        "print(pa_s2.size)\n",
        "print(pa_s2[0])\n",
        "print(pa_s2[1])\n",
        "print(pa_s2[2])\n",
        "print(pa_s2[3])\n",
        "print(pa_s2[4])\n"
      ],
      "metadata": {
        "colab": {
          "base_uri": "https://localhost:8080/"
        },
        "id": "iiuksrWvrmPS",
        "outputId": "0787bf65-920a-4974-9979-bdc66355c94b"
      },
      "execution_count": null,
      "outputs": [
        {
          "output_type": "stream",
          "name": "stdout",
          "text": [
            "[91, 2.5, '문자', 4, 5.16, 7]\n",
            "0      91\n",
            "1     2.5\n",
            "2      문자\n",
            "3       4\n",
            "4    5.16\n",
            "5       7\n",
            "dtype: object\n",
            "object\n",
            "RangeIndex(start=0, stop=6, step=1)\n",
            "6\n",
            "91\n",
            "2.5\n",
            "문자\n",
            "4\n",
            "5.16\n"
          ]
        }
      ]
    },
    {
      "cell_type": "code",
      "source": [
        "pa.__version__ #판다스 버젼 확인하여 tutorial 찾아서 보기\n",
        "#https://pandas.pydata.org/pandas-docs/version/1.5.3/user_guide/index.html#user-guide 모든 메뉴얼있음\n",
        "\n",
        "#인덱싱\n",
        "pa_s2[[1,3]]\n",
        "pa_s2[[4,5]] #pd_s2[인덱스4, 인덱스 5 ]\n",
        "a = pa_s2[np.arange(0,4,2)]\n",
        "print(a)\n"
      ],
      "metadata": {
        "colab": {
          "base_uri": "https://localhost:8080/"
        },
        "id": "kwK3fpMf7pzM",
        "outputId": "d5356eed-1683-43fb-acba-5da78367e0b6"
      },
      "execution_count": null,
      "outputs": [
        {
          "output_type": "stream",
          "name": "stdout",
          "text": [
            "0    91\n",
            "2    문자\n",
            "dtype: object\n"
          ]
        }
      ]
    },
    {
      "cell_type": "code",
      "source": [
        "#Series의 생성 방법2 - np.random.randint()를 이용하기\n",
        "np.random.seed(0)\n",
        "a1 = pa.Series(np.random.randint(10000,20000,size=(10,)))\n",
        "print(a1)"
      ],
      "metadata": {
        "colab": {
          "base_uri": "https://localhost:8080/"
        },
        "id": "10-Cs8Nr-nkk",
        "outputId": "191e5b80-bf81-4186-f6d5-c195202e8310"
      },
      "execution_count": null,
      "outputs": [
        {
          "output_type": "stream",
          "name": "stdout",
          "text": [
            "0    12732\n",
            "1    19845\n",
            "2    13264\n",
            "3    14859\n",
            "4    19225\n",
            "5    17891\n",
            "6    14373\n",
            "7    15874\n",
            "8    16744\n",
            "9    13468\n",
            "dtype: int64\n"
          ]
        }
      ]
    },
    {
      "cell_type": "code",
      "source": [
        "#Series의 생성 방법3 - np.random.randint()를 이용하기\n",
        "np.random.seed(0)\n",
        "a2 = pa.Series(np.random.randint(100,200,size=(10,)))\n",
        "# print(a2)\n",
        "# print(a2> 150) #논리형인 : TRUE , FALSE 로 출력된다\n",
        "print(a2[a2 > 150])"
      ],
      "metadata": {
        "colab": {
          "base_uri": "https://localhost:8080/"
        },
        "id": "f7WyJ8vW_Ytd",
        "outputId": "9df89e59-6e13-44b1-e86c-896325fe4e24"
      },
      "execution_count": null,
      "outputs": [
        {
          "output_type": "stream",
          "name": "stdout",
          "text": [
            "2    164\n",
            "3    167\n",
            "4    167\n",
            "6    183\n",
            "9    187\n",
            "dtype: int64\n"
          ]
        }
      ]
    },
    {
      "cell_type": "code",
      "source": [
        "#Series의 생성방법 4\n",
        "a3 = pa.Series(['마켓팅','경영','개발','기획','인사'],index =['a','b','c','d','e'])\n",
        "print(a3)\n",
        "print(a3.index) #인덱스와 값을 다 보는 함수 : .index\n",
        "print(a3.values)#인덱스의 값만 보는것 : .values\n",
        "print(a3['a'])\n",
        "print(a3[0])\n",
        "print(a3[1],a3[4])\n",
        "print(a3[['b','e']])\n",
        "#ndim : 차원을 보는 함수\n",
        "print('a3.ndim ==>',a3.ndim)\n",
        "#shape : 데이터의 모양 , 데이터의 갯수\n",
        "print('a3.shape -->',a3.shape)"
      ],
      "metadata": {
        "colab": {
          "base_uri": "https://localhost:8080/"
        },
        "id": "0oD3dG_WAHJN",
        "outputId": "8ce41781-77df-4419-8cf8-b96d44921642"
      },
      "execution_count": null,
      "outputs": [
        {
          "output_type": "stream",
          "name": "stdout",
          "text": [
            "a    마켓팅\n",
            "b     경영\n",
            "c     개발\n",
            "d     기획\n",
            "e     인사\n",
            "dtype: object\n",
            "Index(['a', 'b', 'c', 'd', 'e'], dtype='object')\n",
            "['마켓팅' '경영' '개발' '기획' '인사']\n",
            "마켓팅\n",
            "마켓팅\n",
            "경영 인사\n",
            "b    경영\n",
            "e    인사\n",
            "dtype: object\n",
            "a3.ndim ==> 1\n",
            "a3.shape --> (5,)\n"
          ]
        }
      ]
    },
    {
      "cell_type": "code",
      "source": [
        "#NaN (Not a Number) : 결측값\n",
        "a4 = pa.Series(['선화','강호', np.nan,'소정','우영'])\n",
        "print(a4)\n",
        "#결측값 찾기 isnull() , isna()\n",
        "#결측값이면 TRUE\n",
        "# a4.isnull()\n",
        "a4.isna()\n",
        "#TRUE갑 출력\n",
        "a4[a4.isna()]"
      ],
      "metadata": {
        "colab": {
          "base_uri": "https://localhost:8080/"
        },
        "id": "r9-MN3WWE3a8",
        "outputId": "992db8e4-afb4-4ac1-c562-26145809082b"
      },
      "execution_count": null,
      "outputs": [
        {
          "output_type": "stream",
          "name": "stdout",
          "text": [
            "0     선화\n",
            "1     강호\n",
            "2    NaN\n",
            "3     소정\n",
            "4     우영\n",
            "dtype: object\n"
          ]
        },
        {
          "output_type": "execute_result",
          "data": {
            "text/plain": [
              "2    NaN\n",
              "dtype: object"
            ]
          },
          "metadata": {},
          "execution_count": 152
        }
      ]
    },
    {
      "cell_type": "markdown",
      "source": [],
      "metadata": {
        "id": "tFMQav0QEyBS"
      }
    },
    {
      "cell_type": "code",
      "source": [
        "#결측값이 아닌값은 찾기 notnull(), notna()\n",
        "a4[a4.notnull()]\n",
        "a4[a4.notna()]"
      ],
      "metadata": {
        "colab": {
          "base_uri": "https://localhost:8080/"
        },
        "id": "Bt7XtHfHEvzW",
        "outputId": "ebbd6941-e63a-48b4-de0c-273a2731973c"
      },
      "execution_count": null,
      "outputs": [
        {
          "output_type": "execute_result",
          "data": {
            "text/plain": [
              "0    선화\n",
              "1    강호\n",
              "3    소정\n",
              "4    우영\n",
              "dtype: object"
            ]
          },
          "metadata": {},
          "execution_count": 151
        }
      ]
    },
    {
      "cell_type": "code",
      "source": [
        "#슬라이싱\n",
        "a5 = pa.Series(np.arange(100,150,10)) #100~ 140 까지 10개단위로 출력\n",
        "\n",
        "#인덱싱 변형\n",
        "a5.index = ['a','b','c','d','e']\n",
        "print(a5)\n",
        "# a5['a':'d'] #방법1\n",
        "# print(a5[:])#방법2\n",
        "\n",
        "index_list=list('abcd')\n",
        "index_list\n",
        "print(a5[index_list],'방법2')\n"
      ],
      "metadata": {
        "colab": {
          "base_uri": "https://localhost:8080/"
        },
        "id": "tdrQfOGQE5oj",
        "outputId": "e29c159e-466f-42a0-e384-64a549d99c0c"
      },
      "execution_count": null,
      "outputs": [
        {
          "output_type": "stream",
          "name": "stdout",
          "text": [
            "a    100\n",
            "b    110\n",
            "c    120\n",
            "d    130\n",
            "e    140\n",
            "dtype: int64\n",
            "a    100\n",
            "b    110\n",
            "c    120\n",
            "d    130\n",
            "dtype: int64 방법2\n"
          ]
        }
      ]
    },
    {
      "cell_type": "code",
      "source": [
        "\n",
        "# 1. 다음의 Series를 생성하세요.\n",
        "\n",
        "# dtype은 float32가 되도록 생성하세요\n",
        "\n",
        "# # 코드를 입력해 주세요\n",
        "s1 = pa.Series(np.arange(3,12,2),dtype='float32')\n",
        "print(s1)\n",
        "# [출력]\n",
        "\n",
        "# 0 3.0\n",
        "\n",
        "# 1 5.0\n",
        "\n",
        "# 2 7.0\n",
        "\n",
        "# 3 9.0\n",
        "\n",
        "# 4 11.0\n",
        "\n",
        "# dtype: float32\n",
        "\n",
        "\n",
        "\n",
        "# 2.\n",
        "\n",
        "# [출력]\n",
        "s2 = pa.Series(list('가나라다마'))\n",
        "print(s2)\n",
        "# 0 가\n",
        "\n",
        "# 1 나\n",
        "\n",
        "# 2 다\n",
        "\n",
        "# 3 라\n",
        "\n",
        "# 4 마\n",
        "\n",
        "# dtype: object\n",
        "\n",
        "# 3. 다음의 Series를 생성하고 sample 변수에 대입하고 출력하세요\n",
        "s3 = pa.Series(np.arange(10,60,10),index=list('가나다라마'),dtype='int64')\n",
        "print(s3)\n",
        "# # 코드를 입력해 주세요\n",
        "\n",
        "# [출력]\n",
        "\n",
        "# 가 10\n",
        "\n",
        "# 나 20\n",
        "\n",
        "# 다 30\n",
        "\n",
        "# 라 40\n",
        "\n",
        "# 마 50\n",
        "\n",
        "# dtype: int64\n",
        "\n",
        "\n",
        "# 4. sample중 '나'와 '라' 데이터를 조회하세요\n",
        "s3[['나','라']]\n",
        "# # 코드를 입력해 주세요\n",
        "\n",
        "# [출력 결과]\n",
        "\n",
        "# 나 20\n",
        "\n",
        "# 라 40\n",
        "\n",
        "# dtype: int64\n",
        "\n",
        "# 5.\n",
        "\n",
        "s5 = np.random.seed(20)\n",
        "s5 = pd.Series(np.random.randint(100, 200, size=(15,)))\n",
        "\n",
        "# sample2 중 160 이하인 데이터만 필터하세요\n",
        "s5[s5[:]<160]\n",
        "\n",
        "# 코드를 입력해 주세요\n",
        "# [출력]\n",
        "\n",
        "# 2 115\n",
        "\n",
        "# 4 128\n",
        "\n",
        "# 6 109\n",
        "\n",
        "# 7 120\n",
        "\n",
        "# 9 122\n",
        "\n",
        "# 11 134\n",
        "\n",
        "# 13 140\n",
        "\n",
        "# dtype: int64\n"
      ],
      "metadata": {
        "colab": {
          "base_uri": "https://localhost:8080/"
        },
        "id": "LGDCggexSgZ1",
        "outputId": "53583669-cce9-4e69-a01e-54cd0f558589"
      },
      "execution_count": null,
      "outputs": [
        {
          "output_type": "stream",
          "name": "stdout",
          "text": [
            "0     3.0\n",
            "1     5.0\n",
            "2     7.0\n",
            "3     9.0\n",
            "4    11.0\n",
            "dtype: float32\n",
            "0    가\n",
            "1    나\n",
            "2    라\n",
            "3    다\n",
            "4    마\n",
            "dtype: object\n",
            "가    10\n",
            "나    20\n",
            "다    30\n",
            "라    40\n",
            "마    50\n",
            "dtype: int64\n"
          ]
        },
        {
          "output_type": "execute_result",
          "data": {
            "text/plain": [
              "2     115\n",
              "4     128\n",
              "6     109\n",
              "7     120\n",
              "9     122\n",
              "11    134\n",
              "13    140\n",
              "dtype: int64"
            ]
          },
          "metadata": {},
          "execution_count": 298
        }
      ]
    },
    {
      "cell_type": "code",
      "source": [
        "# 6.\n",
        "\n",
        "s6 = pd.Series(np.random.randint(100, 200, size=(15,)))\n",
        "\n",
        "# sample2 중 130 이상 170 이하인 데이터만 필터하세요\n",
        "# # 코드를 입력해 주세요\n",
        "\n",
        "# [출력]\n",
        "\n",
        "# 11 134\n",
        "\n",
        "# 13 140\n",
        "\n",
        "# dtype: int64\n",
        "\n",
        "\n",
        "# 7.\n",
        "\n",
        "# 다음과 같은 Series를 생성해 주세요\n",
        "\n",
        "# # 코드를 입력해 주세요\n",
        "s7 = pa.Series(['apple','NaN','banana','kiwi','gubong'],index = ['가','나','다','라','마'])\n",
        "# [출력]\n",
        "\n",
        "# 가 apple\n",
        "\n",
        "# 나 NaN\n",
        "\n",
        "# 다 banana\n",
        "\n",
        "# 라 kiwi\n",
        "\n",
        "# 마 gubong\n",
        "\n",
        "# dtype: object\n",
        "\n",
        "# 8.\n",
        "\n",
        "s8 = pd.Series(['IT서비스', np.nan, '반도체', np.nan, '바이오', '자율주행'])\n",
        "# sample 중 결측치 데이터만 필터하세요\n",
        "s8[s8.isna()]\n",
        "# # 코드를 입력해 주세요\n",
        "\n",
        "# [출력]\n",
        "\n",
        "# 1 NaN\n",
        "\n",
        "# 3 NaN\n",
        "\n",
        "# dtype: object\n",
        "\n",
        "# 9. sample중 결측치가 아닌 데이터만 필터하세요\n",
        "# # 코드를 입력해 주세요\n",
        "s8[s8.notna()]\n",
        "\n",
        "# [출력]\n",
        "\n",
        "# 0 IT서비스\n",
        "\n",
        "# 2 반도체\n",
        "\n",
        "# 4 바이오\n",
        "\n",
        "# 5 자율주행\n",
        "\n",
        "# dtype: object\n",
        "\n",
        "# 10.\n",
        "\n",
        "s10 = np.random.seed(0)\n",
        "s10 = pd.Series(np.random.randint(100, 200, size=(10,)))\n",
        "\n",
        "\n",
        "# sample에서 다음과 같은 결과를 가지도록 슬라이싱 하세요\n",
        "\n",
        "# # 코드를 입력해 주세요\n",
        "\n",
        "# [출력]\n",
        "\n",
        "# 2 164\n",
        "\n",
        "# 3 167\n",
        "\n",
        "# 4 167\n",
        "\n",
        "# 5 109\n",
        "\n",
        "# 6 183\n",
        "\n",
        "# dtype: int64\n"
      ],
      "metadata": {
        "colab": {
          "base_uri": "https://localhost:8080/"
        },
        "id": "GxyQlv0cjccr",
        "outputId": "0481498b-a3e2-4679-bf7d-651450325bd7"
      },
      "execution_count": null,
      "outputs": [
        {
          "output_type": "stream",
          "name": "stdout",
          "text": [
            "0     199\n",
            "1     190\n",
            "2     115\n",
            "3     195\n",
            "4     128\n",
            "5     190\n",
            "6     109\n",
            "7     120\n",
            "8     175\n",
            "9     122\n",
            "10    171\n",
            "11    134\n",
            "12    196\n",
            "13    140\n",
            "14    185\n",
            "dtype: int64\n"
          ]
        }
      ]
    },
    {
      "cell_type": "code",
      "source": [
        "# 11.\n",
        "import numpy as np\n",
        "import pandas as pd\n",
        "\n",
        "\n",
        "s11= np.random.seed(0)\n",
        "sample2 = pd.Series(np.random.randint(100, 200, size=(10,)), index=list('가나다라마바사아자차'))\n",
        "sample2\n",
        "\n",
        "\n",
        "# sample2에서 다음과 같은 결과를 가지도록 슬라이싱 하세요\n",
        "\n",
        "# # 코드를 입력해 주세요\n",
        "s12 = pd.Series(np.random.randint(100, 200, size=(5,)), index=list('바사아자차'))\n",
        "s12\n",
        "# [출력]\n",
        "# 바 109\n",
        "# 사 183\n",
        "# 아 121\n",
        "# 자 136\n",
        "# 차 187\n",
        "# dtype: int64\n",
        "\n",
        "# 11.\n",
        "# [출력]\n",
        "# 가 144\n",
        "# 나 147\n",
        "# 다 164\n",
        "# dtype: int64\n",
        "\n",
        "# 12.\n",
        "s11_1 = pd.Series(np.random.randint(144,164, size=(3,)), index=list('가나다'))\n",
        "s11_1\n",
        "\n",
        "\n",
        "# [출력]\n",
        "# 나 147\n",
        "# 다 164\n",
        "# 라 167\n",
        "# 마 167\n",
        "# 바 109\n",
        "# dtype: int64\n",
        "\n"
      ],
      "metadata": {
        "id": "ERfdSIF9jhrM",
        "colab": {
          "base_uri": "https://localhost:8080/",
          "height": 239
        },
        "outputId": "d4bd2770-1772-4b98-b6b3-afef85db33d7"
      },
      "execution_count": null,
      "outputs": [
        {
          "output_type": "error",
          "ename": "TypeError",
          "evalue": "Cannot interpret '109' as a data type",
          "traceback": [
            "\u001b[0;31m---------------------------------------------------------------------------\u001b[0m",
            "\u001b[0;31mTypeError\u001b[0m                                 Traceback (most recent call last)",
            "\u001b[0;32m<ipython-input-23-31006f1ddb2b>\u001b[0m in \u001b[0;36m<cell line: 47>\u001b[0;34m()\u001b[0m\n\u001b[1;32m     45\u001b[0m \u001b[0;31m# dtype: int64\u001b[0m\u001b[0;34m\u001b[0m\u001b[0;34m\u001b[0m\u001b[0m\n\u001b[1;32m     46\u001b[0m \u001b[0;34m\u001b[0m\u001b[0m\n\u001b[0;32m---> 47\u001b[0;31m \u001b[0ms12_1\u001b[0m \u001b[0;34m=\u001b[0m \u001b[0mpd\u001b[0m\u001b[0;34m.\u001b[0m\u001b[0mSeries\u001b[0m\u001b[0;34m(\u001b[0m\u001b[0mnp\u001b[0m\u001b[0;34m.\u001b[0m\u001b[0mrandom\u001b[0m\u001b[0;34m.\u001b[0m\u001b[0mrandint\u001b[0m\u001b[0;34m(\u001b[0m\u001b[0;36m147\u001b[0m\u001b[0;34m,\u001b[0m\u001b[0;36m164\u001b[0m\u001b[0;34m,\u001b[0m\u001b[0;36m167\u001b[0m\u001b[0;34m,\u001b[0m\u001b[0;36m109\u001b[0m\u001b[0;34m)\u001b[0m \u001b[0;34m,\u001b[0m\u001b[0mindex\u001b[0m\u001b[0;34m=\u001b[0m\u001b[0mlist\u001b[0m\u001b[0;34m(\u001b[0m\u001b[0;34m'나다라마바'\u001b[0m\u001b[0;34m)\u001b[0m\u001b[0;34m)\u001b[0m\u001b[0;34m\u001b[0m\u001b[0;34m\u001b[0m\u001b[0m\n\u001b[0m\u001b[1;32m     48\u001b[0m \u001b[0ms12_1\u001b[0m\u001b[0;34m\u001b[0m\u001b[0;34m\u001b[0m\u001b[0m\n",
            "\u001b[0;32mmtrand.pyx\u001b[0m in \u001b[0;36mnumpy.random.mtrand.RandomState.randint\u001b[0;34m()\u001b[0m\n",
            "\u001b[0;31mTypeError\u001b[0m: Cannot interpret '109' as a data type"
          ]
        }
      ]
    },
    {
      "cell_type": "markdown",
      "source": [
        "시리즈 문제"
      ],
      "metadata": {
        "id": "u8W_6Vj6KOVe"
      }
    }
  ]
}